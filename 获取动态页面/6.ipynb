{
 "cells": [
  {
   "cell_type": "code",
   "execution_count": 1,
   "metadata": {},
   "outputs": [],
   "source": [
    "from selenium import webdriver\n",
    "from selenium.webdriver.edge.service import Service\n",
    "from selenium.webdriver.common.by import By\n",
    "driver_path = \"D:\\\\Anaconda\\\\Scripts\\\\MicrosoftWebDriver.exe\"\n",
    "wd = webdriver.Edge()\n",
    "wd.get('https://www.baidu.com')\n",
    "wd.implicitly_wait(3)\n",
    "div_key = wd.find_element(By.XPATH,'//*[@id=\"kw\"]')\n",
    "div_key.send_keys('数据采集')\n",
    "div_key.click()\n"
   ]
  },
  {
   "cell_type": "code",
   "execution_count": 4,
   "metadata": {},
   "outputs": [
    {
     "name": "stdout",
     "output_type": "stream",
     "text": [
      "没有找到搜索框！\n"
     ]
    }
   ],
   "source": [
    "from selenium import webdriver\n",
    "from selenium.webdriver.edge.service import Service\n",
    "from selenium.webdriver.common.by import By\n",
    "driver_path = \"D:\\\\Anaconda\\\\Scripts\\\\MicrosoftWebDriver.exe\"\n",
    "\n",
    "wd = webdriver.Edge(service = Service(driver_path))\n",
    "wd.get('https://www.baidu.com')\n",
    "wd.implicitly_wait(10)\n",
    "try:\n",
    "\n",
    "    div_key = wd.find_element(By.XPATH,'//*[@id=\"kw\"]')\n",
    "    div_key.send_keys('数据采集')\n",
    "    bottom = wd.find_element(By.XPATH,'//*[@id=\"su\"]').click()\n",
    "except Exception:\n",
    "    print(\"没有找到搜索框！\")\n"
   ]
  },
  {
   "cell_type": "code",
   "execution_count": 3,
   "metadata": {},
   "outputs": [],
   "source": [
    "driver = webdriver.Edge(service = Service(driver_path))\n",
    "driver.get('https://fanyi.youdao.com/#/TextTranslate')\n",
    "driver.implicitly_wait(10)\n",
    "try:\n",
    "    div_xpath = driver.find_element(By.XPATH,'//*[@id=\"js_fanyi_input\"]')\n",
    "    div_xpath.send_keys('hello')\n",
    "    submit = driver.find_element(By.XPATH,'//*[@id=\"js_fanyi_output\"]').click()\n",
    "except Exception:\n",
    "    print('没找到搜索框')"
   ]
  },
  {
   "cell_type": "code",
   "execution_count": 5,
   "metadata": {},
   "outputs": [],
   "source": [
    "from selenium import webdriver\n",
    "from selenium.webdriver.edge.service import Service\n",
    "from selenium.webdriver.common.by import By\n",
    "driver_path = \"D:\\\\Anaconda\\\\Scripts\\\\MicrosoftWebDriver.exe\"\n",
    "sele = webdriver.Edge(service = Service(driver_path))\n",
    "sele.get('https://douban.com/')\n",
    "sele.implicitly_wait(10)\n",
    "user = \"18349951972\"\n",
    "pswd = \"Qaz123.@\"\n",
    "#切换frame 窗口\n",
    "try:\n",
    "    login = sele.find_element(By.XPATH,'//*[@id=\"anony-reg-new\"]/div/div[1]/iframe[@style=\"height: 300px; width: 300px;\"]')\n",
    "    sele.switch_to.frame(login)\n",
    "except Exception:\n",
    "    print('无')\n",
    "\n",
    "try:\n",
    "    \n",
    "    sele_xpath = sele.find_element(By.XPATH,'/html/body/div[1]/div[1]/ul[1]/li[2]').click()\n",
    "    sele_user = sele.find_element(By.XPATH,'//*[@id=\"username\"]')\n",
    "    sele_user.send_keys(user)\n",
    "    sele_pwd = sele.find_element(By.XPATH,'//*[@id=\"password\"]')\n",
    "    sele_pwd.send_keys(pswd)\n",
    "    submits = sele.find_element(By.XPATH,'/html/body/div[1]/div[2]/div[1]/div[5]/a').click()\n",
    "except Exception:\n",
    "    print('没有找到元素')"
   ]
  },
  {
   "cell_type": "code",
   "execution_count": null,
   "metadata": {},
   "outputs": [],
   "source": []
  }
 ],
 "metadata": {
  "kernelspec": {
   "display_name": "base",
   "language": "python",
   "name": "python3"
  },
  "language_info": {
   "codemirror_mode": {
    "name": "ipython",
    "version": 3
   },
   "file_extension": ".py",
   "mimetype": "text/x-python",
   "name": "python",
   "nbconvert_exporter": "python",
   "pygments_lexer": "ipython3",
   "version": "3.12.3"
  }
 },
 "nbformat": 4,
 "nbformat_minor": 2
}
