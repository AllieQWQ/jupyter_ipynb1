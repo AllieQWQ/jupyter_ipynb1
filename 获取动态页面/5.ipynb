{
 "cells": [
  {
   "cell_type": "code",
   "execution_count": 3,
   "metadata": {},
   "outputs": [
    {
     "name": "stdout",
     "output_type": "stream",
     "text": [
      "夺命微笑2\n",
      "破·地狱\n",
      "某种物质\n",
      "老手2\n",
      "因果报应\n",
      "猫猫的奇幻漂流\n",
      "阿诺拉\n",
      "天启Z：完结的起点\n",
      "死侍与金刚狼\n",
      "泳者之心\n"
     ]
    }
   ],
   "source": [
    "import csv\n",
    "from selenium import webdriver\n",
    "from selenium.webdriver.edge.service import Service\n",
    "from selenium.webdriver.common.by import By\n",
    "friver = Service('D:\\\\Anaconda\\\\Scripts\\\\MicrosoftWebDriver.exe')\n",
    "wd = webdriver.Edge(service = friver)\n",
    "wd.get('http://www.douban.com')\n",
    "\n",
    "#find_elements 返回值：List，如果没有满足条件的，返回空列表\n",
    "liList = wd.find_elements(By.XPATH,'//*[@class=\"list1 movie-charts\"]/ol/li')\n",
    "for li in liList:\n",
    "    #print(li.get_property('outerHTML'))\n",
    "    aElement = li.find_element(By.XPATH,'a')\n",
    "    moveName = aElement.text\n",
    "    print(moveName)\n",
    "    #获取标签属性的值，a == href /@href\n",
    "    a_url= aElement.get_property('href')\n",
    "\n",
    "#保存数据csv\n",
    "with open('./data1.csv','a+',encoding='gbk',newline='') as f:\n",
    "    f_csv = csv.writer(f)\n",
    "    f_csv.writerow(['电影名称'])\n",
    "    for i in liList:\n",
    "        movie_name = i.find_element(By.TAG_NAME, 'a').text\n",
    "        f_csv.writerow([movie_name])"
   ]
  },
  {
   "cell_type": "code",
   "execution_count": 1,
   "metadata": {},
   "outputs": [],
   "source": [
    "import csv\n",
    "from selenium import webdriver\n",
    "from selenium.webdriver.edge.service import Service\n",
    "from selenium.webdriver.common.by import By\n",
    "friver = Service('D:\\\\Anaconda\\\\Scripts\\\\MicrosoftWebDriver.exe')\n",
    "wd = webdriver.Edge(service = friver)\n",
    "wd.get('https://www.toutiao.com')\n",
    "wd.implicitly_wait(3)\n",
    "List_Xpath = wd.find_elements(By.XPATH,'//*[@id=\"root\"]//div/div/div[1]/ol/li')\n",
    "titles=[]\n",
    "for i in List_Xpath:\n",
    "    # print(i.get_property('outerHTML'))\n",
    "    Element = i.find_element(By.XPATH,'a/p')\n",
    "    titleName = Element.text\n",
    "    print(titleName)\n",
    "    titles.append(titleName)\n",
    "    # a_u = Element.get_property('aria-label')\n",
    "\n",
    "with open('./data2.csv', 'a+', encoding='utf-8', newline='') as f:\n",
    "    f_csv = csv.writer(f)\n",
    "    f_csv.writerow(['标题'])  # 写入标题行\n",
    "    for title in titles:\n",
    "        f_csv.writerow([title])  # 写入每行标题数据"
   ]
  },
  {
   "cell_type": "code",
   "execution_count": null,
   "metadata": {},
   "outputs": [],
   "source": []
  }
 ],
 "metadata": {
  "kernelspec": {
   "display_name": "base",
   "language": "python",
   "name": "python3"
  },
  "language_info": {
   "codemirror_mode": {
    "name": "ipython",
    "version": 3
   },
   "file_extension": ".py",
   "mimetype": "text/x-python",
   "name": "python",
   "nbconvert_exporter": "python",
   "pygments_lexer": "ipython3",
   "version": "3.12.3"
  }
 },
 "nbformat": 4,
 "nbformat_minor": 2
}
