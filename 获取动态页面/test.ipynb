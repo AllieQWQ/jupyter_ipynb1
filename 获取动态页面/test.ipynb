{
 "cells": [
  {
   "cell_type": "code",
   "execution_count": null,
   "metadata": {},
   "outputs": [],
   "source": [
    "from selenium import webdriver\n",
    "from selenium.webdriver.edge.service import Service\n",
    "from selenium.webdriver.common.by import By\n",
    "wd = webdriver.Edge()\n",
    "wd.get('https://m.lagou.com/')\n",
    "wd.implicitly_wait(10)\n",
    "try:\n",
    "    wd_xpath = wd.find_element(By.XPATH,'//*[@id=\"__next\"]/div/div[1]/div/div[2]/div/input')\n",
    "    wd_xpath.send_keys('数据分析师')\n",
    "    enter = wd.find_element(By.XPATH,'//*[@id=\"__next\"]/div/div[1]/div/div[2]/div/span').click()\n",
    "except Exception:\n",
    "    print('未找到元素')\n",
    "\n",
    "try:\n",
    "    element = wd.find_element(By.CLASS_NAME,'PRkK-')\n",
    "    js = \"arguments[0].scrollIntoView(true);\"\n",
    "    wd.execute_script(js,element)\n",
    "    okutro = wd.find_element(By.CLASS_NAME,'_9GEnr').click()  \n",
    "except Exception:\n",
    "    print('未找到元素')\n",
    "\n",
    "data_count = 0\n",
    "while data_count < 200:\n",
    "    wd.execute_script(\"window.scrollBy(0,1000);\")\n",
    "    wd.execute_script(js,element)\n",
    "\n",
    "\n",
    "    id_e = wd.find_element(By.CLASS_NAME,'obg-Z')\n",
    "    data_count = len(id_e)  # 更新计数器\n",
    "\n",
    "    if data_count >= 200:\n",
    "        break\n",
    "    wd.implicitly_wait(10)\n",
    "\n",
    "\n",
    "# for i in range(210):\n",
    "#     wd.execute_script(\"window.scrollBy(0,1000);\")\n",
    "#     wd.execute_script(js,element)\n",
    "#     wd.implicitly_wait(10)"
   ]
  },
  {
   "cell_type": "code",
   "execution_count": null,
   "metadata": {},
   "outputs": [],
   "source": []
  },
  {
   "cell_type": "code",
   "execution_count": null,
   "metadata": {},
   "outputs": [],
   "source": []
  }
 ],
 "metadata": {
  "kernelspec": {
   "display_name": "base",
   "language": "python",
   "name": "python3"
  },
  "language_info": {
   "codemirror_mode": {
    "name": "ipython",
    "version": 3
   },
   "file_extension": ".py",
   "mimetype": "text/x-python",
   "name": "python",
   "nbconvert_exporter": "python",
   "pygments_lexer": "ipython3",
   "version": "3.12.3"
  }
 },
 "nbformat": 4,
 "nbformat_minor": 2
}
