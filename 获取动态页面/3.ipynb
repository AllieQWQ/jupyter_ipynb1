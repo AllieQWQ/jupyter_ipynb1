{
 "cells": [
  {
   "cell_type": "code",
   "execution_count": null,
   "metadata": {},
   "outputs": [],
   "source": [
    "'''\n",
    "    get —— 传参数 url 在地址栏当中看得到，数据隐私，安全性不好\n",
    "    post —— 传参数 在地址栏中看不到，数据隐私好，安全性好\n",
    "    向服务器 传递数据，注册、表单、登录\n",
    "'''\n",
    "import requests\n",
    "url = 'https://www.douban.com/'\n",
    "header = {\n",
    "    'user-agent':'Mozilla/5.0 (Windows NT 10.0; Win64; x64) AppleWebKit/537.36 (KHTML, like Gecko) Chrome/131.0.0.0 Safari/537.36 Edg/131.0.0.0'\n",
    "}\n",
    "#构造键值对\n",
    "parms = {\n",
    "    'remember': 'true',\n",
    "    'name': '13548047244',\n",
    "    'password': 'uuuuuuuu'\n",
    "}\n",
    "\n",
    "res = requests.post(url,headers=header,data=parms)\n",
    "print(res.text)"
   ]
  },
  {
   "cell_type": "code",
   "execution_count": null,
   "metadata": {},
   "outputs": [],
   "source": [
    "urls = 'http://httpbin.org/post'\n",
    "parms = {\n",
    "    'remember': 'true',\n",
    "    'name': '13548047244',\n",
    "    'password': 'uuuuuuuu'\n",
    "}\n",
    "head = {\n",
    "    'content-type':'application/x-www-form-urlencoded'\n",
    "}\n",
    "ress = requests.post(urls,json=parms)\n",
    "print(ress.text)"
   ]
  },
  {
   "cell_type": "code",
   "execution_count": 4,
   "metadata": {},
   "outputs": [
    {
     "name": "stderr",
     "output_type": "stream",
     "text": [
      "Exception managing chrome: error sending request for url (https://googlechromelabs.github.io/chrome-for-testing/known-good-versions-with-downloads.json)\n"
     ]
    }
   ],
   "source": [
    "from selenium import webdriver\n",
    "# 设置 ChromeDriver 的路径\n",
    "driver_path = \"D:\\\\Anaconda\\\\Scripts\\\\chromedriver.exe\"\n",
    "\n",
    "# 创建一个新的 Chrome 会话\n",
    "driver = webdriver.Chrome()\n",
    "# driver.implicitly_wait(30)\n",
    "# driver.maximize_window()\n",
    "\n",
    "# 打开百度网站\n",
    "driver.get(\"http://www.baidu.com\")"
   ]
  },
  {
   "cell_type": "code",
   "execution_count": 2,
   "metadata": {},
   "outputs": [],
   "source": [
    "from selenium import webdriver\n",
    "driver_Path = \"D:\\\\Anaconda\\\\Scripts\\\\MicrosoftWebDriver.exe\"\n",
    "wd = webdriver.Edge()\n",
    "wd.get(\"http://www.baidu.com\")\n"
   ]
  },
  {
   "cell_type": "code",
   "execution_count": null,
   "metadata": {},
   "outputs": [],
   "source": [
    "from selenium import webdriver\n",
    "from selenium.webdriver.edge.service import Service\n",
    "driver = webdriver.Edge(service= Service(r'D:\\\\Anaconda\\\\Scripts\\\\MicrosoftWebDriver.exe'))\n",
    "driver.get('https://www.baidu.com')\n"
   ]
  }
 ],
 "metadata": {
  "kernelspec": {
   "display_name": "base",
   "language": "python",
   "name": "python3"
  },
  "language_info": {
   "codemirror_mode": {
    "name": "ipython",
    "version": 3
   },
   "file_extension": ".py",
   "mimetype": "text/x-python",
   "name": "python",
   "nbconvert_exporter": "python",
   "pygments_lexer": "ipython3",
   "version": "3.12.3"
  }
 },
 "nbformat": 4,
 "nbformat_minor": 2
}
