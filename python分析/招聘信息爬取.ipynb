{
 "cells": [
  {
   "cell_type": "code",
   "execution_count": 12,
   "metadata": {},
   "outputs": [],
   "source": [
    "import requests\n",
    "import csv\n",
    "from lxml import etree\n",
    "import re\n",
    "#运用def函数封装这个网页，并下载\n",
    "def get_html(url):\n",
    "    headers = {\n",
    "        'user-agent':'Mozilla/5.0 (Windows NT 10.0; Win64; x64) AppleWebKit/537.36 (KHTML, like Gecko) Chrome/131.0.0.0 Safari/537.36 Edg/131.0.0.0'\n",
    "    }\n",
    "    res = requests.get(url,headers=headers)\n",
    "    res.encoding = 'utf-8'\n",
    "    html = res.text\n",
    "    return html\n",
    "#检查是否成功\n",
    "# url = 'http://72.itmc.org.cn:80/JS001/open/show/zhaopin/index.html'\n",
    "# htmlconnect = get_html(url)\n",
    "# print(htmlconnect)\n",
    "\n",
    "def setup_html(html):\n",
    "    tree = etree.HTML(html)\n",
    "    \n"
   ]
  },
  {
   "cell_type": "code",
   "execution_count": null,
   "metadata": {},
   "outputs": [],
   "source": []
  }
 ],
 "metadata": {
  "kernelspec": {
   "display_name": "base",
   "language": "python",
   "name": "python3"
  },
  "language_info": {
   "codemirror_mode": {
    "name": "ipython",
    "version": 3
   },
   "file_extension": ".py",
   "mimetype": "text/x-python",
   "name": "python",
   "nbconvert_exporter": "python",
   "pygments_lexer": "ipython3",
   "version": "3.12.3"
  }
 },
 "nbformat": 4,
 "nbformat_minor": 2
}
