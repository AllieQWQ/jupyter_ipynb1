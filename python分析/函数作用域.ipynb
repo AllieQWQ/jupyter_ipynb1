{
 "cells": [
  {
   "cell_type": "code",
   "execution_count": 5,
   "metadata": {},
   "outputs": [
    {
     "name": "stdout",
     "output_type": "stream",
     "text": [
      "tom 30\n"
     ]
    }
   ],
   "source": [
    "def sing(name,age =18):\n",
    "    age = 30\n",
    "    print(name,age)\n",
    "    \n",
    "\n",
    "age = 28\n",
    "\n",
    "sing(\"tom\",age)    #实际的参数赋值一遍，传参"
   ]
  },
  {
   "cell_type": "code",
   "execution_count": null,
   "metadata": {},
   "outputs": [
    {
     "name": "stdout",
     "output_type": "stream",
     "text": [
      "岗位要求: ('职位诱惑：\\n\\n \\n六险一金,股票期权,弹性工作,免费三餐\\n\\n \\n\\n \\n\\n \\n职位描述：\\n\\n \\n\\n 职位职责：\\n\\n1、深入理解短视频业态，结合定性、定量的分析方法解决用户、市场及产品战略相关的问题。深入业务和行业，可以独立完成策略设计、数据处理与分析、方案评估的工作闭环；\\n\\n2、为管理层搭建短视频的管理指标体系，对核心业务进行拆解；\\n\\n3、自主对内外部数据进行分析，挖掘影响业务增长的核心因素，制定优化策略并协同推进落地；\\n\\n4、能够从宏观视角对业务进行解读。\\n\\n职位要求：\\n\\n1、3年以上数据分析经验，可以适应互联网行业快速敏捷的工作节奏；\\n\\n2、很强的好奇心、钻研精神、数据敏感性及逻辑思维能力；\\n\\n3、熟悉Hive SQL，熟悉Python/R等分析工具，有较强的快速学习能力并能指导团队；\\n\\n4、对统计学有较深的理解，有增长、AB 实验、数据建模经验者优先；\\n\\n5、有互联网公司数据分析，商业分析，策略经理等经验者优先；\\n\\n6、有团队管理经验者优先。',)\n",
      "\n"
     ]
    }
   ],
   "source": [
    "import requests\n",
    "import re\n",
    "\n",
    "# 获取网页HTML\n",
    "def get_html(url):\n",
    "    headers = {\n",
    "        'user-agent': 'Mozilla/5.0 (Windows NT 10.0; Win64; x64) AppleWebKit/537.36 (KHTML, like Gecko) Chrome/131.0.0.0 Safari/537.36 Edg/131.0.0.0'\n",
    "    }\n",
    "    response = requests.get(url, headers=headers)\n",
    "    response.encoding = 'utf-8'\n",
    "    return response.text\n",
    "\n",
    "# 使用正则表达式提取岗位信息和岗位要求\n",
    "def extract_job_info(html):\n",
    "        \n",
    "    # 假设岗位要求在 <div class=\"job-requirement\"> 中\n",
    "    job_requirement_pattern = re.compile(r'<div class=\"content_l fl\">(.*?)</div>', re.S)\n",
    "    job_requirements = re.findall(job_requirement_pattern, html)\n",
    "    \n",
    "    # 清理HTML标签\n",
    "    clean_job_requirements = [re.sub(r'<[^>]+>', '', requirement).strip() for requirement in job_requirements]\n",
    "    \n",
    "    return clean_job_requirements\n",
    "\n",
    "# 主函数\n",
    "def main():\n",
    "    url = 'http://72.itmc.org.cn/JS001/open/show/zhaopin/jobs/6083262.html'\n",
    "    html = get_html(url)\n",
    "    job_requirements = extract_job_info(html)\n",
    "    \n",
    "    # 打印岗位信息和岗位要求\n",
    "    for requirement in zip(job_requirements):\n",
    "        print(f'岗位要求: {requirement}\\n')\n",
    "\n",
    "if __name__ == '__main__':\n",
    "    main()\n"
   ]
  },
  {
   "cell_type": "code",
   "execution_count": null,
   "metadata": {},
   "outputs": [],
   "source": []
  }
 ],
 "metadata": {
  "kernelspec": {
   "display_name": "base",
   "language": "python",
   "name": "python3"
  },
  "language_info": {
   "codemirror_mode": {
    "name": "ipython",
    "version": 3
   },
   "file_extension": ".py",
   "mimetype": "text/x-python",
   "name": "python",
   "nbconvert_exporter": "python",
   "pygments_lexer": "ipython3",
   "version": "3.12.3"
  }
 },
 "nbformat": 4,
 "nbformat_minor": 2
}
