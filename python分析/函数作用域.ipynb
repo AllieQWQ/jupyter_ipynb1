{
 "cells": [
  {
   "cell_type": "code",
   "execution_count": 5,
   "metadata": {},
   "outputs": [
    {
     "name": "stdout",
     "output_type": "stream",
     "text": [
      "tom 30\n"
     ]
    }
   ],
   "source": [
    "def sing(name,age =18):\n",
    "    age = 30\n",
    "    print(name,age)\n",
    "    \n",
    "\n",
    "age = 28\n",
    "\n",
    "sing(\"tom\",age)    #实际的参数赋值一遍，传参"
   ]
  },
  {
   "cell_type": "code",
   "execution_count": null,
   "metadata": {},
   "outputs": [
    {
     "name": "stdout",
     "output_type": "stream",
     "text": [
      "岗位要求: ('职位诱惑：\\n\\n \\n六险一金,股票期权,弹性工作,免费三餐\\n\\n \\n\\n \\n\\n \\n职位描述：\\n\\n \\n\\n 职位职责：\\n\\n1、深入理解短视频业态，结合定性、定量的分析方法解决用户、市场及产品战略相关的问题。深入业务和行业，可以独立完成策略设计、数据处理与分析、方案评估的工作闭环；\\n\\n2、为管理层搭建短视频的管理指标体系，对核心业务进行拆解；\\n\\n3、自主对内外部数据进行分析，挖掘影响业务增长的核心因素，制定优化策略并协同推进落地；\\n\\n4、能够从宏观视角对业务进行解读。\\n\\n职位要求：\\n\\n1、3年以上数据分析经验，可以适应互联网行业快速敏捷的工作节奏；\\n\\n2、很强的好奇心、钻研精神、数据敏感性及逻辑思维能力；\\n\\n3、熟悉Hive SQL，熟悉Python/R等分析工具，有较强的快速学习能力并能指导团队；\\n\\n4、对统计学有较深的理解，有增长、AB 实验、数据建模经验者优先；\\n\\n5、有互联网公司数据分析，商业分析，策略经理等经验者优先；\\n\\n6、有团队管理经验者优先。',)\n",
      "\n"
     ]
    }
   ],
   "source": [
    "import requests\n",
    "import re\n",
    "\n",
    "# 获取网页HTML\n",
    "def get_html(url):\n",
    "    headers = {\n",
    "        'user-agent': 'Mozilla/5.0 (Windows NT 10.0; Win64; x64) AppleWebKit/537.36 (KHTML, like Gecko) Chrome/131.0.0.0 Safari/537.36 Edg/131.0.0.0'\n",
    "    }\n",
    "    response = requests.get(url, headers=headers)\n",
    "    response.encoding = 'utf-8'\n",
    "    return response.text\n",
    "\n",
    "# 使用正则表达式提取岗位信息和岗位要求\n",
    "def extract_job_info(html):\n",
    "        \n",
    "    # 假设岗位要求在 <div class=\"job-requirement\"> 中\n",
    "    job_requirement_pattern = re.compile(r'<div class=\"content_l fl\">(.*?)</div>', re.S)\n",
    "    job_requirements = re.findall(job_requirement_pattern, html)\n",
    "    \n",
    "    # 清理HTML标签\n",
    "    clean_job_requirements = [re.sub(r'<[^>]+>', '', requirement).strip() for requirement in job_requirements]\n",
    "    \n",
    "    return clean_job_requirements\n",
    "\n",
    "# 主函数\n",
    "def main():\n",
    "    url = 'http://72.itmc.org.cn/JS001/open/show/zhaopin/jobs/6083262.html'\n",
    "    html = get_html(url)\n",
    "    job_requirements = extract_job_info(html)\n",
    "    \n",
    "    # 打印岗位信息和岗位要求\n",
    "    for requirement in zip(job_requirements):\n",
    "        print(f'岗位要求: {requirement}\\n')\n",
    "\n",
    "if __name__ == '__main__':\n",
    "    main()\n"
   ]
  },
  {
   "cell_type": "code",
   "execution_count": 4,
   "metadata": {},
   "outputs": [
    {
     "ename": "UnicodeDecodeError",
     "evalue": "'utf-8' codec can't decode byte 0xc4 in position 0: invalid continuation byte",
     "output_type": "error",
     "traceback": [
      "\u001b[1;31m---------------------------------------------------------------------------\u001b[0m",
      "\u001b[1;31mUnicodeDecodeError\u001b[0m                        Traceback (most recent call last)",
      "Cell \u001b[1;32mIn[4], line 18\u001b[0m\n\u001b[0;32m     16\u001b[0m csv_file_path \u001b[38;5;241m=\u001b[39m \u001b[38;5;124m'\u001b[39m\u001b[38;5;124madult11.csv\u001b[39m\u001b[38;5;124m'\u001b[39m\n\u001b[0;32m     17\u001b[0m json_file_path \u001b[38;5;241m=\u001b[39m \u001b[38;5;124m'\u001b[39m\u001b[38;5;124madult11.json\u001b[39m\u001b[38;5;124m'\u001b[39m\n\u001b[1;32m---> 18\u001b[0m csv_to_json(csv_file_path, json_file_path)\n\u001b[0;32m     20\u001b[0m \u001b[38;5;28mprint\u001b[39m(\u001b[38;5;124mf\u001b[39m\u001b[38;5;124m\"\u001b[39m\u001b[38;5;124mCSV文件已成功转换为JSON文件: \u001b[39m\u001b[38;5;132;01m{\u001b[39;00mjson_file_path\u001b[38;5;132;01m}\u001b[39;00m\u001b[38;5;124m\"\u001b[39m)\n",
      "Cell \u001b[1;32mIn[4], line 10\u001b[0m, in \u001b[0;36mcsv_to_json\u001b[1;34m(csv_file_path, json_file_path)\u001b[0m\n\u001b[0;32m      7\u001b[0m \u001b[38;5;28;01mwith\u001b[39;00m \u001b[38;5;28mopen\u001b[39m(csv_file_path, mode\u001b[38;5;241m=\u001b[39m\u001b[38;5;124m'\u001b[39m\u001b[38;5;124mr\u001b[39m\u001b[38;5;124m'\u001b[39m, encoding\u001b[38;5;241m=\u001b[39m\u001b[38;5;124m'\u001b[39m\u001b[38;5;124mutf-8-sig\u001b[39m\u001b[38;5;124m'\u001b[39m) \u001b[38;5;28;01mas\u001b[39;00m csvfile:\n\u001b[0;32m      8\u001b[0m     csv_reader \u001b[38;5;241m=\u001b[39m csv\u001b[38;5;241m.\u001b[39mDictReader(csvfile)\n\u001b[1;32m---> 10\u001b[0m     \u001b[38;5;28;01mfor\u001b[39;00m row \u001b[38;5;129;01min\u001b[39;00m csv_reader:\n\u001b[0;32m     11\u001b[0m         data\u001b[38;5;241m.\u001b[39mappend(row)\n\u001b[0;32m     13\u001b[0m \u001b[38;5;28;01mwith\u001b[39;00m \u001b[38;5;28mopen\u001b[39m(json_file_path, mode\u001b[38;5;241m=\u001b[39m\u001b[38;5;124m'\u001b[39m\u001b[38;5;124mw\u001b[39m\u001b[38;5;124m'\u001b[39m, encoding\u001b[38;5;241m=\u001b[39m\u001b[38;5;124m'\u001b[39m\u001b[38;5;124mutf-8\u001b[39m\u001b[38;5;124m'\u001b[39m) \u001b[38;5;28;01mas\u001b[39;00m jsonfile:\n",
      "File \u001b[1;32md:\\Anaconda\\Lib\\csv.py:115\u001b[0m, in \u001b[0;36mDictReader.__next__\u001b[1;34m(self)\u001b[0m\n\u001b[0;32m    112\u001b[0m \u001b[38;5;28;01mdef\u001b[39;00m \u001b[38;5;21m__next__\u001b[39m(\u001b[38;5;28mself\u001b[39m):\n\u001b[0;32m    113\u001b[0m     \u001b[38;5;28;01mif\u001b[39;00m \u001b[38;5;28mself\u001b[39m\u001b[38;5;241m.\u001b[39mline_num \u001b[38;5;241m==\u001b[39m \u001b[38;5;241m0\u001b[39m:\n\u001b[0;32m    114\u001b[0m         \u001b[38;5;66;03m# Used only for its side effect.\u001b[39;00m\n\u001b[1;32m--> 115\u001b[0m         \u001b[38;5;28mself\u001b[39m\u001b[38;5;241m.\u001b[39mfieldnames\n\u001b[0;32m    116\u001b[0m     row \u001b[38;5;241m=\u001b[39m \u001b[38;5;28mnext\u001b[39m(\u001b[38;5;28mself\u001b[39m\u001b[38;5;241m.\u001b[39mreader)\n\u001b[0;32m    117\u001b[0m     \u001b[38;5;28mself\u001b[39m\u001b[38;5;241m.\u001b[39mline_num \u001b[38;5;241m=\u001b[39m \u001b[38;5;28mself\u001b[39m\u001b[38;5;241m.\u001b[39mreader\u001b[38;5;241m.\u001b[39mline_num\n",
      "File \u001b[1;32md:\\Anaconda\\Lib\\csv.py:102\u001b[0m, in \u001b[0;36mDictReader.fieldnames\u001b[1;34m(self)\u001b[0m\n\u001b[0;32m    100\u001b[0m \u001b[38;5;28;01mif\u001b[39;00m \u001b[38;5;28mself\u001b[39m\u001b[38;5;241m.\u001b[39m_fieldnames \u001b[38;5;129;01mis\u001b[39;00m \u001b[38;5;28;01mNone\u001b[39;00m:\n\u001b[0;32m    101\u001b[0m     \u001b[38;5;28;01mtry\u001b[39;00m:\n\u001b[1;32m--> 102\u001b[0m         \u001b[38;5;28mself\u001b[39m\u001b[38;5;241m.\u001b[39m_fieldnames \u001b[38;5;241m=\u001b[39m \u001b[38;5;28mnext\u001b[39m(\u001b[38;5;28mself\u001b[39m\u001b[38;5;241m.\u001b[39mreader)\n\u001b[0;32m    103\u001b[0m     \u001b[38;5;28;01mexcept\u001b[39;00m \u001b[38;5;167;01mStopIteration\u001b[39;00m:\n\u001b[0;32m    104\u001b[0m         \u001b[38;5;28;01mpass\u001b[39;00m\n",
      "File \u001b[1;32m<frozen codecs>:322\u001b[0m, in \u001b[0;36mdecode\u001b[1;34m(self, input, final)\u001b[0m\n",
      "File \u001b[1;32md:\\Anaconda\\Lib\\encodings\\utf_8_sig.py:69\u001b[0m, in \u001b[0;36mIncrementalDecoder._buffer_decode\u001b[1;34m(self, input, errors, final)\u001b[0m\n\u001b[0;32m     66\u001b[0m             (output, consumed) \u001b[38;5;241m=\u001b[39m \\\n\u001b[0;32m     67\u001b[0m                codecs\u001b[38;5;241m.\u001b[39mutf_8_decode(\u001b[38;5;28minput\u001b[39m[\u001b[38;5;241m3\u001b[39m:], errors, final)\n\u001b[0;32m     68\u001b[0m             \u001b[38;5;28;01mreturn\u001b[39;00m (output, consumed\u001b[38;5;241m+\u001b[39m\u001b[38;5;241m3\u001b[39m)\n\u001b[1;32m---> 69\u001b[0m \u001b[38;5;28;01mreturn\u001b[39;00m codecs\u001b[38;5;241m.\u001b[39mutf_8_decode(\u001b[38;5;28minput\u001b[39m, errors, final)\n",
      "\u001b[1;31mUnicodeDecodeError\u001b[0m: 'utf-8' codec can't decode byte 0xc4 in position 0: invalid continuation byte"
     ]
    }
   ],
   "source": [
    "import csv\n",
    "import json\n",
    "\n",
    "def csv_to_json(csv_file_path, json_file_path):\n",
    "    data = []\n",
    "    \n",
    "    with open(csv_file_path, mode='r', encoding='utf-8') as csvfile:\n",
    "        csv_reader = csv.DictReader(csvfile)\n",
    "        \n",
    "        for row in csv_reader:\n",
    "            data.append(row)\n",
    "            \n",
    "    with open(json_file_path, mode='w', encoding='utf-8-sig') as jsonfile:\n",
    "        json.dump(data, jsonfile, indent=4, ensure_ascii=False)\n",
    "\n",
    "csv_file_path = 'adult11.csv'\n",
    "json_file_path = 'adult11.json'\n",
    "csv_to_json(csv_file_path, json_file_path)\n",
    "\n",
    "print(f\"CSV文件已成功转换为JSON文件: {json_file_path}\")\n"
   ]
  },
  {
   "cell_type": "code",
   "execution_count": null,
   "metadata": {},
   "outputs": [],
   "source": []
  }
 ],
 "metadata": {
  "kernelspec": {
   "display_name": "base",
   "language": "python",
   "name": "python3"
  },
  "language_info": {
   "codemirror_mode": {
    "name": "ipython",
    "version": 3
   },
   "file_extension": ".py",
   "mimetype": "text/x-python",
   "name": "python",
   "nbconvert_exporter": "python",
   "pygments_lexer": "ipython3",
   "version": "3.12.3"
  }
 },
 "nbformat": 4,
 "nbformat_minor": 2
}
