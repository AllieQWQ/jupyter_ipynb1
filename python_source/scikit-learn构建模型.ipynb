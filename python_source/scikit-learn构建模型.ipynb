{
 "cells": [
  {
   "cell_type": "code",
   "execution_count": 66,
   "metadata": {},
   "outputs": [
    {
     "data": {
      "text/plain": [
       "array(['setosa', 'versicolor', 'virginica'], dtype='<U10')"
      ]
     },
     "execution_count": 66,
     "metadata": {},
     "output_type": "execute_result"
    }
   ],
   "source": [
    "'''\n",
    "    scikit-learn构建模型\n",
    "    第一题\n",
    "'''\n",
    "import numpy\n",
    "import pandas\n",
    "from sklearn.datasets import load_iris\n",
    "iris = load_iris()\n",
    "iris\n",
    "\n",
    "iris['data']\n",
    "iris['data'].shape\n",
    "iris['feature_names']\n",
    "iris['target']\n",
    "iris['target'].shape\n",
    "iris['target_names']"
   ]
  },
  {
   "cell_type": "code",
   "execution_count": 67,
   "metadata": {},
   "outputs": [
    {
     "data": {
      "text/html": [
       "<div>\n",
       "<style scoped>\n",
       "    .dataframe tbody tr th:only-of-type {\n",
       "        vertical-align: middle;\n",
       "    }\n",
       "\n",
       "    .dataframe tbody tr th {\n",
       "        vertical-align: top;\n",
       "    }\n",
       "\n",
       "    .dataframe thead th {\n",
       "        text-align: right;\n",
       "    }\n",
       "</style>\n",
       "<table border=\"1\" class=\"dataframe\">\n",
       "  <thead>\n",
       "    <tr style=\"text-align: right;\">\n",
       "      <th></th>\n",
       "      <th>花萼长度</th>\n",
       "      <th>花萼宽度</th>\n",
       "      <th>花瓣长度</th>\n",
       "      <th>花瓣宽度</th>\n",
       "      <th>类型</th>\n",
       "    </tr>\n",
       "  </thead>\n",
       "  <tbody>\n",
       "    <tr>\n",
       "      <th>0</th>\n",
       "      <td>5.1</td>\n",
       "      <td>3.5</td>\n",
       "      <td>1.4</td>\n",
       "      <td>0.2</td>\n",
       "      <td>0</td>\n",
       "    </tr>\n",
       "    <tr>\n",
       "      <th>1</th>\n",
       "      <td>4.9</td>\n",
       "      <td>3.0</td>\n",
       "      <td>1.4</td>\n",
       "      <td>0.2</td>\n",
       "      <td>0</td>\n",
       "    </tr>\n",
       "    <tr>\n",
       "      <th>2</th>\n",
       "      <td>4.7</td>\n",
       "      <td>3.2</td>\n",
       "      <td>1.3</td>\n",
       "      <td>0.2</td>\n",
       "      <td>0</td>\n",
       "    </tr>\n",
       "    <tr>\n",
       "      <th>3</th>\n",
       "      <td>4.6</td>\n",
       "      <td>3.1</td>\n",
       "      <td>1.5</td>\n",
       "      <td>0.2</td>\n",
       "      <td>0</td>\n",
       "    </tr>\n",
       "    <tr>\n",
       "      <th>4</th>\n",
       "      <td>5.0</td>\n",
       "      <td>3.6</td>\n",
       "      <td>1.4</td>\n",
       "      <td>0.2</td>\n",
       "      <td>0</td>\n",
       "    </tr>\n",
       "    <tr>\n",
       "      <th>...</th>\n",
       "      <td>...</td>\n",
       "      <td>...</td>\n",
       "      <td>...</td>\n",
       "      <td>...</td>\n",
       "      <td>...</td>\n",
       "    </tr>\n",
       "    <tr>\n",
       "      <th>145</th>\n",
       "      <td>6.7</td>\n",
       "      <td>3.0</td>\n",
       "      <td>5.2</td>\n",
       "      <td>2.3</td>\n",
       "      <td>2</td>\n",
       "    </tr>\n",
       "    <tr>\n",
       "      <th>146</th>\n",
       "      <td>6.3</td>\n",
       "      <td>2.5</td>\n",
       "      <td>5.0</td>\n",
       "      <td>1.9</td>\n",
       "      <td>2</td>\n",
       "    </tr>\n",
       "    <tr>\n",
       "      <th>147</th>\n",
       "      <td>6.5</td>\n",
       "      <td>3.0</td>\n",
       "      <td>5.2</td>\n",
       "      <td>2.0</td>\n",
       "      <td>2</td>\n",
       "    </tr>\n",
       "    <tr>\n",
       "      <th>148</th>\n",
       "      <td>6.2</td>\n",
       "      <td>3.4</td>\n",
       "      <td>5.4</td>\n",
       "      <td>2.3</td>\n",
       "      <td>2</td>\n",
       "    </tr>\n",
       "    <tr>\n",
       "      <th>149</th>\n",
       "      <td>5.9</td>\n",
       "      <td>3.0</td>\n",
       "      <td>5.1</td>\n",
       "      <td>1.8</td>\n",
       "      <td>2</td>\n",
       "    </tr>\n",
       "  </tbody>\n",
       "</table>\n",
       "<p>150 rows × 5 columns</p>\n",
       "</div>"
      ],
      "text/plain": [
       "     花萼长度  花萼宽度  花瓣长度  花瓣宽度  类型\n",
       "0     5.1   3.5   1.4   0.2   0\n",
       "1     4.9   3.0   1.4   0.2   0\n",
       "2     4.7   3.2   1.3   0.2   0\n",
       "3     4.6   3.1   1.5   0.2   0\n",
       "4     5.0   3.6   1.4   0.2   0\n",
       "..    ...   ...   ...   ...  ..\n",
       "145   6.7   3.0   5.2   2.3   2\n",
       "146   6.3   2.5   5.0   1.9   2\n",
       "147   6.5   3.0   5.2   2.0   2\n",
       "148   6.2   3.4   5.4   2.3   2\n",
       "149   5.9   3.0   5.1   1.8   2\n",
       "\n",
       "[150 rows x 5 columns]"
      ]
     },
     "execution_count": 67,
     "metadata": {},
     "output_type": "execute_result"
    }
   ],
   "source": [
    "concat = pandas.concat([pandas.DataFrame(iris['data']),\n",
    "                        pandas.DataFrame(iris['target'])],axis=1)    #0是纵轴，1是横轴\n",
    "concat.columns=['花萼长度','花萼宽度','花瓣长度','花瓣宽度','类型']\n",
    "concat\n"
   ]
  },
  {
   "cell_type": "code",
   "execution_count": 68,
   "metadata": {},
   "outputs": [
    {
     "data": {
      "text/plain": [
       "(442,)"
      ]
     },
     "execution_count": 68,
     "metadata": {},
     "output_type": "execute_result"
    }
   ],
   "source": [
    "#将数据集划分为训练集和测试集\n",
    "from sklearn.datasets import load_diabetes\n",
    "from sklearn.model_selection import train_test_split\n",
    "diabetes = load_diabetes()  #将数据集赋值给diabetes 变量\n",
    "# print('diabetes数据集的长度为：',len(diabetes))   #使用len 查看数据集的长度\n",
    "# print('diabetes数据集的类型：',type(diabetes))      #使用type函数查看数据集的类型\n",
    "#print(diabetes['DESCR'])\n",
    "diabetes_data = diabetes['data']    #特征\n",
    "diabetes_target = diabetes['target']   #标签\n",
    "diabetes_data.shape\n",
    "diabetes_target.shape"
   ]
  },
  {
   "cell_type": "code",
   "execution_count": 69,
   "metadata": {},
   "outputs": [
    {
     "name": "stdout",
     "output_type": "stream",
     "text": [
      "(353, 10)\n",
      "(89, 10)\n",
      "(353,)\n",
      "(89,)\n"
     ]
    }
   ],
   "source": [
    "train_test_split(diabetes_data,diabetes_target,test_size=0.2)\n",
    "Xtrain,Xtest,Ytrain,Ytest = train_test_split(diabetes_data,diabetes_target,test_size=0.2)\n",
    "print(Xtrain.shape)\n",
    "print(Xtest.shape)\n",
    "print(Ytrain.shape)\n",
    "print(Ytest.shape)"
   ]
  },
  {
   "cell_type": "code",
   "execution_count": 70,
   "metadata": {},
   "outputs": [
    {
     "name": "stdout",
     "output_type": "stream",
     "text": [
      "(150, 4)\n",
      "(150,)\n",
      "==================================\n",
      "(105, 4)\n",
      "(45, 4)\n",
      "(105,)\n",
      "(45,)\n"
     ]
    }
   ],
   "source": [
    "iris_data = iris['data']    #特征\n",
    "iris_target = iris['target']    #标签\n",
    "print(iris_data.shape)\n",
    "print(iris_target.shape)\n",
    "print('==================================')\n",
    "xtrain,xtest,ytrain,ytest = train_test_split(iris_data,iris_target,test_size=0.3)\n",
    "print(xtrain.shape)\n",
    "print(xtest.shape)\n",
    "print(ytrain.shape)\n",
    "print(ytest.shape)"
   ]
  },
  {
   "cell_type": "code",
   "execution_count": 71,
   "metadata": {},
   "outputs": [
    {
     "data": {
      "text/plain": [
       "(353, 5)"
      ]
     },
     "execution_count": 71,
     "metadata": {},
     "output_type": "execute_result"
    }
   ],
   "source": [
    "#使用sklearn转换器进行数据预处理  --MinMaxScaler 标准化\n",
    "from sklearn.preprocessing import MinMaxScaler\n",
    "#生成规则 -> 初始化模型对象,将规则应用于训练集 -> 模型对象的训练 fit()\n",
    "mxScaler = MinMaxScaler().fit(xtrain)\n",
    "#将规则应用于训练集\n",
    "New = mxScaler.transform(xtrain)\n",
    "New\n",
    "\n",
    "#使用sklearn进行数据预处理降维  \n",
    "\n",
    "from sklearn.decomposition import PCA\n",
    "#初始化模型对象\n",
    "pca = PCA(n_components=5).fit(Xtrain)\n",
    "\n",
    "ne = pca.transform(Xtrain)\n",
    "ne.shape"
   ]
  },
  {
   "cell_type": "code",
   "execution_count": 72,
   "metadata": {},
   "outputs": [
    {
     "data": {
      "text/plain": [
       "array([0.38768933, 0.15797352, 0.12640442, 0.09562678, 0.06437714])"
      ]
     },
     "execution_count": 72,
     "metadata": {},
     "output_type": "execute_result"
    }
   ],
   "source": [
    "pca.explained_variance_ratio_   #降维后的个主成分方差值只占总方差的比例（一般看比例>9即可）\n"
   ]
  },
  {
   "cell_type": "code",
   "execution_count": 73,
   "metadata": {},
   "outputs": [
    {
     "data": {
      "text/plain": [
       "(105, 2)"
      ]
     },
     "execution_count": 73,
     "metadata": {},
     "output_type": "execute_result"
    }
   ],
   "source": [
    "'''\n",
    "    离差标准化数据（最小 - 最大标准化）结果是将原始数据的数值映射到[0,1]区间\n",
    "    公式：X^* = (X - MIN) / (MAX - MIN)\n",
    "    如果想将映射数值改到[1,10]区间的方法\n",
    "    公式：v' = [(X - MIN) / (MAX - MIN)] * (new_max - new_min) + new_min\n",
    "    4、使用离差标准化(最大最小标准化)方法将训练集与测试集数据分别进行标准化。 \n",
    "'''\n",
    "iris_scale = MinMaxScaler().fit(xtrain)\n",
    "iris_result = iris_scale.transform(xtrain)\n",
    "iris_result\n",
    "\n",
    "pca_iris = PCA(n_components=2).fit(xtrain)\n",
    "new_iris = pca_iris.transform(xtrain)\n",
    "new_iris.shape"
   ]
  },
  {
   "cell_type": "code",
   "execution_count": 74,
   "metadata": {},
   "outputs": [
    {
     "data": {
      "text/plain": [
       "array([0.93232299, 0.04648756])"
      ]
     },
     "execution_count": 74,
     "metadata": {},
     "output_type": "execute_result"
    }
   ],
   "source": [
    "pca_iris.explained_variance_ratio_"
   ]
  },
  {
   "cell_type": "code",
   "execution_count": 75,
   "metadata": {},
   "outputs": [
    {
     "data": {
      "text/html": [
       "<div>\n",
       "<style scoped>\n",
       "    .dataframe tbody tr th:only-of-type {\n",
       "        vertical-align: middle;\n",
       "    }\n",
       "\n",
       "    .dataframe tbody tr th {\n",
       "        vertical-align: top;\n",
       "    }\n",
       "\n",
       "    .dataframe thead th {\n",
       "        text-align: right;\n",
       "    }\n",
       "</style>\n",
       "<table border=\"1\" class=\"dataframe\">\n",
       "  <thead>\n",
       "    <tr style=\"text-align: right;\">\n",
       "      <th></th>\n",
       "      <th>头发</th>\n",
       "      <th>声音</th>\n",
       "      <th>性别</th>\n",
       "    </tr>\n",
       "  </thead>\n",
       "  <tbody>\n",
       "    <tr>\n",
       "      <th>0</th>\n",
       "      <td>1</td>\n",
       "      <td>0</td>\n",
       "      <td>1</td>\n",
       "    </tr>\n",
       "    <tr>\n",
       "      <th>1</th>\n",
       "      <td>0</td>\n",
       "      <td>0</td>\n",
       "      <td>1</td>\n",
       "    </tr>\n",
       "    <tr>\n",
       "      <th>2</th>\n",
       "      <td>0</td>\n",
       "      <td>0</td>\n",
       "      <td>1</td>\n",
       "    </tr>\n",
       "    <tr>\n",
       "      <th>3</th>\n",
       "      <td>1</td>\n",
       "      <td>1</td>\n",
       "      <td>0</td>\n",
       "    </tr>\n",
       "    <tr>\n",
       "      <th>4</th>\n",
       "      <td>0</td>\n",
       "      <td>1</td>\n",
       "      <td>0</td>\n",
       "    </tr>\n",
       "    <tr>\n",
       "      <th>5</th>\n",
       "      <td>0</td>\n",
       "      <td>0</td>\n",
       "      <td>0</td>\n",
       "    </tr>\n",
       "    <tr>\n",
       "      <th>6</th>\n",
       "      <td>1</td>\n",
       "      <td>0</td>\n",
       "      <td>0</td>\n",
       "    </tr>\n",
       "    <tr>\n",
       "      <th>7</th>\n",
       "      <td>1</td>\n",
       "      <td>0</td>\n",
       "      <td>0</td>\n",
       "    </tr>\n",
       "  </tbody>\n",
       "</table>\n",
       "</div>"
      ],
      "text/plain": [
       "   头发  声音  性别\n",
       "0   1   0   1\n",
       "1   0   0   1\n",
       "2   0   0   1\n",
       "3   1   1   0\n",
       "4   0   1   0\n",
       "5   0   0   0\n",
       "6   1   0   0\n",
       "7   1   0   0"
      ]
     },
     "execution_count": 75,
     "metadata": {},
     "output_type": "execute_result"
    }
   ],
   "source": [
    "#构建并评价决策树分类模型\n",
    "#熵 表示随机变量不确定性的度量 H(X)\n",
    "#引入数据，将数据集中的字符串转换为代表类别的数字，sklearn只识别数字\n",
    "import pandas\n",
    "from sklearn.preprocessing import LabelEncoder\n",
    "student = pandas.read_csv('C:\\\\Users\\\\26440\\\\Desktop\\\\jupyter_ipynb\\\\python_source\\\\data\\\\决策树.csv',\n",
    "                          encoding='gbk',sep='\\t')\n",
    "le = LabelEncoder()\n",
    "for col in student.columns:\n",
    "    student[col] = le.fit_transform(student[col])\n",
    "student\n"
   ]
  },
  {
   "cell_type": "code",
   "execution_count": 76,
   "metadata": {},
   "outputs": [
    {
     "name": "stderr",
     "output_type": "stream",
     "text": [
      "d:\\Anaconda\\Lib\\site-packages\\sklearn\\base.py:493: UserWarning: X does not have valid feature names, but DecisionTreeClassifier was fitted with feature names\n",
      "  warnings.warn(\n"
     ]
    },
    {
     "data": {
      "text/plain": [
       "array([0])"
      ]
     },
     "execution_count": 76,
     "metadata": {},
     "output_type": "execute_result"
    }
   ],
   "source": [
    "#利用已有的训练数据，构建决策树模型，训练模型并预测\n",
    "from sklearn.tree import DecisionTreeClassifier\n",
    "#1.初始化模型\n",
    "model = DecisionTreeClassifier(criterion='entropy')\n",
    "\n",
    "#2、训练模型fit\n",
    "Xt = student.loc[:,['头发','声音']] #特征\n",
    "Yt = student['性别'] #标签\n",
    "model.fit(Xt,Yt)\n",
    "\n",
    "#3、使用决策树进行预测 predict\n",
    "result = model.predict([[0,1]])     #声音细、头发长/短 -> 女\n",
    "result\n",
    "\n",
    "#4、计算分类的准确率 score\n",
    "#print(model.score(Xt,Yt))"
   ]
  },
  {
   "cell_type": "code",
   "execution_count": 77,
   "metadata": {},
   "outputs": [
    {
     "data": {
      "text/plain": [
       "1.0"
      ]
     },
     "execution_count": 77,
     "metadata": {},
     "output_type": "execute_result"
    }
   ],
   "source": [
    "from sklearn.tree import DecisionTreeClassifier\n",
    "Model = DecisionTreeClassifier(criterion='entropy')\n",
    "Model.fit(xtrain,ytrain)\n",
    "Result = Model.score(xtrain,ytrain)\n",
    "Result"
   ]
  },
  {
   "cell_type": "code",
   "execution_count": 84,
   "metadata": {},
   "outputs": [
    {
     "name": "stdout",
     "output_type": "stream",
     "text": [
      "预测结果： [1 2 1 0 2 1 0 1 2 0 2 1 0 0 0 2 0 2 0 1 1 0 1 1 1 0 1 1 1 2 0 0 2 2 2 1 0\n",
      " 2 1 2 1 1 1 2 1]\n",
      "真实结果： [1 2 1 0 2 1 0 1 2 0 2 1 0 0 0 2 0 2 0 1 1 0 1 1 1 0 2 1 1 2 0 0 2 2 2 2 0\n",
      " 2 1 2 1 1 1 2 1]\n"
     ]
    },
    {
     "ename": "TypeError",
     "evalue": "sum() takes at least 1 positional argument (0 given)",
     "output_type": "error",
     "traceback": [
      "\u001b[1;31m---------------------------------------------------------------------------\u001b[0m",
      "\u001b[1;31mTypeError\u001b[0m                                 Traceback (most recent call last)",
      "Cell \u001b[1;32mIn[84], line 4\u001b[0m\n\u001b[0;32m      2\u001b[0m \u001b[38;5;28mprint\u001b[39m(\u001b[38;5;124m'\u001b[39m\u001b[38;5;124m预测结果：\u001b[39m\u001b[38;5;124m'\u001b[39m,pre_result)\n\u001b[0;32m      3\u001b[0m \u001b[38;5;28mprint\u001b[39m(\u001b[38;5;124m'\u001b[39m\u001b[38;5;124m真实结果：\u001b[39m\u001b[38;5;124m'\u001b[39m,ytest)\n\u001b[1;32m----> 4\u001b[0m Result1 \u001b[38;5;241m=\u001b[39m \u001b[38;5;28msum\u001b[39m(pre_result \u001b[38;5;241m=\u001b[39m ytest) \u001b[38;5;241m/\u001b[39m \u001b[38;5;28mlen\u001b[39m(ytest)\n\u001b[0;32m      5\u001b[0m Result1\n",
      "\u001b[1;31mTypeError\u001b[0m: sum() takes at least 1 positional argument (0 given)"
     ]
    }
   ],
   "source": [
    "\n",
    "pre_result = Model.predict(xtest)\n",
    "print('预测结果：',pre_result)\n",
    "print('真实结果：',ytest)\n",
    "Result1 = sum(pre_result = ytest) / len(ytest)\n",
    "Result1"
   ]
  },
  {
   "cell_type": "code",
   "execution_count": 85,
   "metadata": {},
   "outputs": [
    {
     "data": {
      "image/png": "[encoded data removed]",
      "text/plain": [
       "<Figure size 640x480 with 1 Axes>"
      ]
     },
     "metadata": {},
     "output_type": "display_data"
    }
   ],
   "source": [
    "import matplotlib.pylab as plt\n",
    "from sklearn import tree\n",
    "#6、为了能直观地观察训练好的决策树，请利用matplotlib/graphviz库将构建好的决策树可视化\n",
    "feature_names=['花萼长度','花萼宽度','花瓣长度','花瓣宽度']\n",
    "class_names=[\"清风藤\",\"云芝\",\"锦葵\"]\n",
    "plt.rcParams['font.sans-serif'] = ['SimHei'] #用来正常显示中文标签\n",
    "plt.rcParams['axes.unicode_minus'] = False #用来正常显示负号\n",
    "tree.plot_tree(Model,feature_names=feature_names,class_names=class_names,filled=True,rounded=True)\n",
    "plt.show()"
   ]
  },
  {
   "cell_type": "code",
   "execution_count": null,
   "metadata": {},
   "outputs": [],
   "source": []
  }
 ],
 "metadata": {
  "kernelspec": {
   "display_name": "base",
   "language": "python",
   "name": "python3"
  },
  "language_info": {
   "codemirror_mode": {
    "name": "ipython",
    "version": 3
   },
   "file_extension": ".py",
   "mimetype": "text/x-python",
   "name": "python",
   "nbconvert_exporter": "python",
   "pygments_lexer": "ipython3",
   "version": "3.12.3"
  }
 },
 "nbformat": 4,
 "nbformat_minor": 2
}
