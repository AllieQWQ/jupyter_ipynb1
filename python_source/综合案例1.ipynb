{
 "cells": [
  {
   "cell_type": "code",
   "execution_count": null,
   "metadata": {},
   "outputs": [],
   "source": [
    "import numpy\n",
    "import pandas\n",
    "data1 = pandas.read_csv('C:\\\\Users\\\\26440\\\\Desktop\\\\jupyter_ipynb\\\\python_source\\\\data\\\\musicdata.csv')\n",
    "Min_data1 = numpy.mean(data1['number_of_records'])  #求均值(numpy方法)\n",
    "Ave = data1['number_of_records'].mean()   #求均值(pandas方法)\n",
    "#print(Ave)\n",
    "\n",
    "#pandas描述性统计分析describe()方法,所有数值型特征\n",
    "Des = data1.describe()\n",
    "print(Des)\n",
    "\n",
    "#quantile() \n",
    "print(data1['number_of_records'].quantile())   #默认是1/2的分位数\n",
    "print(data1['number_of_records'].quantile(0.25))    #默认是1/4分位数    0.75是3/4分位符\n",
    "data1.info()    #打印出data1的基本信息\n"
   ]
  },
  {
   "cell_type": "code",
   "execution_count": null,
   "metadata": {},
   "outputs": [],
   "source": [
    "Info = pandas.read_csv('C:\\\\Users\\\\26440\\\\Desktop\\\\jupyter_ipynb\\\\python_source\\\\data\\\\某地区房屋销售数据.csv',encoding='gbk')\n",
    "Info\n",
    "print('数据的维度:\\n',Info.shape)      #shape查看数据形状\n",
    "print('数据的形状:\\n',Info.ndim)       #ndim查看数据维度\n",
    "print('数据的行索引:\\n',Info.columns)    #columns查看行索引类型\n",
    "print(Info.loc[Info['房屋类型'] == 'unit'])     #切片unit\n",
    "Info.drop(labels=Info.index[-1:],axis=0,inplace=True)   #删除最后一行\n",
    "Info\n",
    "\n",
    "#Info.iloc[(Info['房屋类型'] == 'unit').values,:]    #iloc()方法"
   ]
  },
  {
   "cell_type": "code",
   "execution_count": null,
   "metadata": {},
   "outputs": [],
   "source": [
    "print('房屋平均价格为:%.2f'%Info['房屋价格'].mean())\n",
    "print('房屋最大价格为:',Info['房屋价格'].max())\n",
    "print(\"房屋最小价格为：\",Info['房屋价格'].min())\n",
    "print('房屋众数为：',Info['房屋价格'].mode())\n",
    "print('房屋价格分位数为：',Info['房屋价格'].quantile())\n",
    "print('房屋价格数据的非空值数目、均值等统计量:\\n',Info['房屋价格'].describe())     #非空值数目、均值等统计量,非数值特征"
   ]
  },
  {
   "cell_type": "code",
   "execution_count": null,
   "metadata": {},
   "outputs": [],
   "source": [
    "print('地区邮编”列中每种邮编出现的次数:\\n',Info['地区邮编'].value_counts())"
   ]
  },
  {
   "cell_type": "code",
   "execution_count": null,
   "metadata": {},
   "outputs": [],
   "source": []
  }
 ],
 "metadata": {
  "kernelspec": {
   "display_name": "base",
   "language": "python",
   "name": "python3"
  },
  "language_info": {
   "codemirror_mode": {
    "name": "ipython",
    "version": 3
   },
   "file_extension": ".py",
   "mimetype": "text/x-python",
   "name": "python",
   "nbconvert_exporter": "python",
   "pygments_lexer": "ipython3",
   "version": "3.12.3"
  }
 },
 "nbformat": 4,
 "nbformat_minor": 2
}
