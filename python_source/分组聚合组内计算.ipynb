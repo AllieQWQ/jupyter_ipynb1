{
 "cells": [
  {
   "cell_type": "code",
   "execution_count": null,
   "metadata": {},
   "outputs": [],
   "source": [
    "'''\n",
    "    分组聚合 groupby() 函数\n",
    "    能够根据索引 特征 对数据进行分组\n",
    "    参数：by —— 接受list str mapping function generator 表示分组依据\n",
    "        对索引进行计算分组\n",
    "'''\n"
   ]
  },
  {
   "cell_type": "code",
   "execution_count": null,
   "metadata": {},
   "outputs": [],
   "source": [
    "import pandas \n",
    "import numpy as np\n",
    "data = pandas.read_csv(\n",
    "    'C:\\\\Users\\\\26440\\\\Desktop\\\\jupyter_ipynb\\\\python_source\\\\data\\\\musicdata.csv'\n",
    "    ,encoding='gbk',\n",
    "    )\n",
    "data[data['format'] == '8 - Track']"
   ]
  },
  {
   "cell_type": "code",
   "execution_count": null,
   "metadata": {},
   "outputs": [],
   "source": [
    "# 1、依据音乐销售形式(format) 对数据进行分组\n",
    "groupdata = data.groupby(by='format')\n",
    "groupdata1 = data.groupby(by=['format','metric'])\n",
    "groupdata\n",
    "print(groupdata1)\n",
    "# 2、查看分组信息\n",
    "groupdata.groups     #查看分组的所有信息\n",
    "\n",
    "# 3、单独查看某一组的分组信息\n",
    "groupdata.get_group('8 - Track')  \n",
    "\n",
    "# 4、查看每组分组的个数\n",
    "groupdata.size()"
   ]
  },
  {
   "cell_type": "code",
   "execution_count": null,
   "metadata": {},
   "outputs": [],
   "source": [
    "# 1、对信息表分组操作，例如按照专辑类型，收入信息 分组求出收入信息的前5组的均值\n",
    "data.groupby(by='format')['value_actual'].mean()\n",
    "data[['format','value_actual']].groupby(by='format').mean().head(5)\n",
    "data.groupby(by='format').mean()"
   ]
  },
  {
   "cell_type": "code",
   "execution_count": null,
   "metadata": {},
   "outputs": [],
   "source": [
    "# as_index 参数的用法\n",
    "#聚合后的聚合标签是是否以dataframe索引形式输出\n",
    "data.groupby(by='format',as_index=False)['value_actual'].mean().index   \n",
    "\n",
    "data.groupby(by='format')['value_actual'].mean().reset_index()"
   ]
  },
  {
   "cell_type": "code",
   "execution_count": null,
   "metadata": {},
   "outputs": [],
   "source": [
    "'''\n",
    "    聚合方法：\n",
    "        1.agg() <==> aggregate() 支持对每个分组应用的函数\n",
    "        func()  接受list，dict，str 表示聚合函数\n",
    "        axis()  0 == 横轴   1 == 纵轴\n",
    "'''\n",
    "# 使用agg() 函数 求出当前数据所有音乐的销售数量(number_of_records)、\n",
    "# 销售价格(value_actual)、总和(sum)、均值(mean)\n",
    "\n",
    "data[['number_of_records','value_actual']].agg([np.sum,np.mean])    #接收list\n"
   ]
  },
  {
   "cell_type": "code",
   "execution_count": null,
   "metadata": {},
   "outputs": [],
   "source": [
    "data[['number_of_records','value_actual']].agg({'number_of_records':sum,\n",
    "                                    'value_actual':np.mean})"
   ]
  },
  {
   "cell_type": "code",
   "execution_count": null,
   "metadata": {},
   "outputs": [],
   "source": [
    "data[['number_of_records','value_actual']].agg({'number_of_records':[np.sum,np.mean]\n",
    "                                                ,'value_actual':np.std})"
   ]
  },
  {
   "cell_type": "code",
   "execution_count": null,
   "metadata": {},
   "outputs": [],
   "source": [
    "'''\n",
    "    agg() 可传入自定义函数\n",
    "    自定义函数的两倍的和\n",
    "'''\n",
    "def func(x):\n",
    "    return x.sum() * 2\n",
    "data.agg({'value_actual':func},axis=0)\n",
    "\n",
    "#匿名函数求两倍的和\n",
    "data.agg({'value_actual': lambda x:x.sum() *2},axis=0)\n",
    "\n",
    "data['value_actual1']=data['value_actual'].agg(lambda x:x*2,axis=0)\n",
    "data"
   ]
  },
  {
   "cell_type": "code",
   "execution_count": null,
   "metadata": {},
   "outputs": [],
   "source": [
    "'''\n",
    "    apply() 类似于 agg() 应用于每一列,apply() 传入的函数只能用于整个 DataFrame 或 Series\n",
    "    无法像agg() 方法一样对不同特征获取结果\n",
    "'''\n",
    "data1 = data.groupby(by='format')\n",
    "data1['value_actual'].apply(np.mean)"
   ]
  },
  {
   "cell_type": "code",
   "execution_count": null,
   "metadata": {},
   "outputs": [],
   "source": []
  }
 ],
 "metadata": {
  "kernelspec": {
   "display_name": "base",
   "language": "python",
   "name": "python3"
  },
  "language_info": {
   "codemirror_mode": {
    "name": "ipython",
    "version": 3
   },
   "file_extension": ".py",
   "mimetype": "text/x-python",
   "name": "python",
   "nbconvert_exporter": "python",
   "pygments_lexer": "ipython3",
   "version": "3.12.3"
  }
 },
 "nbformat": 4,
 "nbformat_minor": 2
}
