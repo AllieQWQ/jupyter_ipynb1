{
 "cells": [
  {
   "cell_type": "code",
   "execution_count": 17,
   "metadata": {},
   "outputs": [
    {
     "name": "stdout",
     "output_type": "stream",
     "text": [
      "1        3\n",
      "2        3\n",
      "3      NaN\n",
      "4    Allie\n",
      "5     Jane\n",
      "dtype: object\n",
      "0    0\n",
      "1    1\n",
      "2    2\n",
      "3    3\n",
      "4    4\n",
      "dtype: int32\n",
      "name:            林鑫泷,林学思，刘翰铭\n",
      "Describe:    懒得喷，你们是个蛋，赶紧滚蛋哈\n",
      "dtype: object\n"
     ]
    }
   ],
   "source": [
    "import pandas as pd\n",
    "import numpy as np\n",
    "# Series 的创建 --> 列表\n",
    "data1 = pd.Series([3,3,np.NAN,'Allie','Jane'],index=['1','2','3','4','5'])\n",
    "print(data1)       #object 代表字符串\n",
    "\n",
    "# Series 的创建 --> numpy数组创建\n",
    "data2 = pd.Series(np.arange(0,5))\n",
    "print(data2)\n",
    "\n",
    "# Series 的创建 --> 字典\n",
    "dic = {\n",
    "    'name:' : '林鑫泷,林学思，刘翰铭',\n",
    "    'Describe:' : '懒得喷，你们是个蛋，赶紧滚蛋哈'\n",
    "}\n",
    "data3 = pd.Series(dic)\n",
    "print(data3)"
   ]
  },
  {
   "cell_type": "code",
   "execution_count": 18,
   "metadata": {},
   "outputs": [
    {
     "name": "stdout",
     "output_type": "stream",
     "text": [
      "['林鑫泷,林学思，刘翰铭' '懒得喷，你们是个蛋，赶紧滚蛋哈']\n",
      "Index(['name:', 'Describe:'], dtype='object')\n",
      "object\n",
      "2\n",
      "(2,)\n"
     ]
    }
   ],
   "source": [
    "'''\n",
    "    Series 的常用属性\n",
    "        -shape\n",
    "        -size\n",
    "        -index\n",
    "        -values\n",
    "        -dtype\n",
    "'''\n",
    "print(data3.values)\n",
    "print(data3.index)\n",
    "print(data3.values.dtype)\n",
    "print(data3.size)\n",
    "print(data3.shape)"
   ]
  },
  {
   "cell_type": "code",
   "execution_count": 19,
   "metadata": {},
   "outputs": [
    {
     "name": "stdout",
     "output_type": "stream",
     "text": [
      "<bound method NDFrame.head of name:            林鑫泷,林学思，刘翰铭\n",
      "Describe:    懒得喷，你们是个蛋，赶紧滚蛋哈\n",
      "dtype: object>\n",
      "<bound method NDFrame.tail of name:            林鑫泷,林学思，刘翰铭\n",
      "Describe:    懒得喷，你们是个蛋，赶紧滚蛋哈\n",
      "dtype: object>\n",
      "[3 nan 'Allie' 'Jane']\n",
      "1    False\n",
      "2    False\n",
      "3     True\n",
      "4    False\n",
      "5    False\n",
      "dtype: bool\n",
      "1     True\n",
      "2     True\n",
      "3    False\n",
      "4     True\n",
      "5     True\n",
      "dtype: bool\n"
     ]
    }
   ],
   "source": [
    "''' \n",
    "    Series 的常用方法\n",
    "        -head(),tail()\n",
    "        -unique()\n",
    "        -isnull(),notnull()\n",
    "'''\n",
    "print(data3.head)       #返回前N行的内容，默认返回前5行数据\n",
    "print(data3.tail)       #返回后N行的内容，默认返回后5行数据\n",
    "print(data1.unique())   \n",
    "print(data1.isnull())   #判断元素是否为空  \n",
    "print(data1.notnull())  #判断元素是否为不空 "
   ]
  },
  {
   "cell_type": "code",
   "execution_count": 20,
   "metadata": {},
   "outputs": [],
   "source": [
    "# Series 的算数运算\n",
    "# -- 法则1：索引一致的元素进行算数运算否则不空\n",
    "Data1 = pd.Series([1,3,0,7],index=['a','b','c','d'])\n",
    "Data2 = pd.Series([1,3,0,7],index=['a','b','c','d'])\n"
   ]
  },
  {
   "cell_type": "code",
   "execution_count": 21,
   "metadata": {},
   "outputs": [
    {
     "name": "stdout",
     "output_type": "stream",
     "text": [
      "a    3\n",
      "b    4\n",
      "c    5\n",
      "d    6\n",
      "e    7\n",
      "dtype: int32\n",
      "姓名：    张三\n",
      "性别：     男\n",
      "年龄：    21\n",
      "爱好：    打球\n",
      "dtype: object\n",
      "第2项values值为: 男\n",
      "前3项元素内容:\n",
      " 姓名：    张三\n",
      "性别：     男\n",
      "年龄：    21\n",
      "dtype: object\n"
     ]
    }
   ],
   "source": [
    "#1. series的创建.由numpy数组创建一个3-7序列的一维Series,并指定索引名称为：a,b,c,d,e\n",
    "S1 = pd.Series(np.arange(3,8),index=['a','b','c','d','e'])\n",
    "print(S1)\n",
    "\n",
    "#由dict创建一个一维Series,比如数据为：姓名，张三；性别，男；年龄，21；爱好，打篮球。\n",
    "#找出第3题中，第2项values值和前3项元素内容。\n",
    "dict1 ={\n",
    "    '姓名：' : '张三',\n",
    "    '性别：' : '男',\n",
    "    '年龄：' : 21,\n",
    "    '爱好：' : '打球'\n",
    "} \n",
    "S2 = pd.Series(dict1)\n",
    "print(S2)\n",
    "print('第2项values值为:',S2.values[1])\n",
    "print('前3项元素内容:\\n',S2.head(3))"
   ]
  },
  {
   "cell_type": "code",
   "execution_count": 29,
   "metadata": {},
   "outputs": [
    {
     "name": "stdout",
     "output_type": "stream",
     "text": [
      "创建的一维随机数组为：\n",
      " 0    26\n",
      "1    47\n",
      "2    27\n",
      "3    25\n",
      "4    44\n",
      "5    44\n",
      "6    38\n",
      "dtype: int32\n",
      "打印前4个数据为：\n",
      " 0    26\n",
      "1    47\n",
      "2    27\n",
      "3    25\n",
      "dtype: int32\n",
      "打印后3个数据为：\n",
      " 4    44\n",
      "5    44\n",
      "6    38\n",
      "dtype: int32\n",
      "S3列表去重后的输出为：\n",
      " [26 47 27 25 44 38]\n",
      "空则返回True,否则返回False\n",
      ",结果如下： 0    False\n",
      "1    False\n",
      "2    False\n",
      "3    False\n",
      "4    False\n",
      "5    False\n",
      "6    False\n",
      "dtype: bool\n"
     ]
    }
   ],
   "source": [
    "''' \n",
    ".由randint函数创建一个20-50区间含有7个值的一维随机Series，\n",
    "然后分别打印前4个数据；打印后 3个数据；给数据元素去重；\n",
    "判断每一个元素是否为空，为空则返回True,否则返回False.\n",
    "'''\n",
    "np.random.seed(40)\n",
    "S3 = pd.Series(np.random.randint(20,51,size=7))\n",
    "print('创建的一维随机数组为：\\n',S3)\n",
    "\n",
    "print('打印前4个数据为：\\n',S3.head(4)) #方法一 \n",
    "print('打印后3个数据为：\\n',S3.tail(3))\n",
    "\n",
    "# print('打印前4个数据为：\\n',S3[:4])     #方法二\n",
    "# print('打印后3个数据为：\\n',S3[4:])\n",
    "print('S3列表去重后的输出为：\\n',S3.unique())\n",
    "print('空则返回True,否则返回False,结果如下：\\n',S3.isnull())\n",
    "\n",
    "\n",
    "\n"
   ]
  },
  {
   "cell_type": "code",
   "execution_count": 39,
   "metadata": {},
   "outputs": [
    {
     "name": "stdout",
     "output_type": "stream",
     "text": [
      "这是S4数组：\n",
      " 0    49\n",
      "1    97\n",
      "2    12\n",
      "3    34\n",
      "4    95\n",
      "dtype: int32\n",
      "这是S5数组：\n",
      " 0     5\n",
      "1     7\n",
      "2    38\n",
      "3     7\n",
      "4    23\n",
      "dtype: int32\n",
      "这是S4 + S5：\n",
      " 0     54\n",
      "1    104\n",
      "2     50\n",
      "3     41\n",
      "4    118\n",
      "dtype: int32\n",
      "这是S4 * 3 + S5：\n",
      " 0    152\n",
      "1    298\n",
      "2     74\n",
      "3    109\n",
      "4    308\n",
      "dtype: int32\n"
     ]
    }
   ],
   "source": [
    "'''\n",
    "    series的算术运算.新建2个一维Series，然后进行求和计算；\n",
    "    将其中一个Series乘以3后查看结果.\n",
    "'''\n",
    "np.random.seed(50)\n",
    "S4 = pd.Series(np.random.randint(1,101,size=5))\n",
    "S5 = pd.Series(np.random.randint(1,51,size=5))\n",
    "print('这是S4数组：\\n',S4)\n",
    "print('这是S5数组：\\n',S5)\n",
    "print('这是S4 + S5：\\n',S4 + S5)\n",
    "print('这是S4 * 3 + S5：\\n',S4 * 3 +S5)"
   ]
  },
  {
   "cell_type": "code",
   "execution_count": null,
   "metadata": {},
   "outputs": [],
   "source": []
  }
 ],
 "metadata": {
  "kernelspec": {
   "display_name": "base",
   "language": "python",
   "name": "python3"
  },
  "language_info": {
   "codemirror_mode": {
    "name": "ipython",
    "version": 3
   },
   "file_extension": ".py",
   "mimetype": "text/x-python",
   "name": "python",
   "nbconvert_exporter": "python",
   "pygments_lexer": "ipython3",
   "version": "3.12.3"
  }
 },
 "nbformat": 4,
 "nbformat_minor": 2
}
