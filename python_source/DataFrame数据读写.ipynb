{
 "cells": [
  {
   "cell_type": "code",
   "execution_count": 3,
   "metadata": {},
   "outputs": [
    {
     "name": "stdout",
     "output_type": "stream",
     "text": [
      "创建的二维数组表为：\n",
      "    e  f  g\n",
      "a  0  1  2\n",
      "b  3  4  5\n",
      "c  6  7  8\n",
      "字典创建的二维数表为：\n",
      "   name  age  high\n",
      "1  刘翰铭   17   175\n",
      "2  林鑫泷   18   178\n",
      "3  林学思   19   170\n"
     ]
    }
   ],
   "source": [
    "import pandas\n",
    "import numpy\n",
    "'''\n",
    "    DataFrame 是二维数组\n",
    "    1. DataFrame 的创建、字典创建  --> ndarray 创建  \n",
    "'''\n",
    "data1 = pandas.DataFrame(numpy.arange(0,9).reshape(3,3),index=['a','b','c'],columns=['e','f','g'])\n",
    "print('创建的二维数组表为：\\n',data1)\n",
    "\n",
    "# 2、 DataFrame 的创建 --> 字典创建\n",
    "dic = {\n",
    "    'name' : ['刘翰铭','林鑫泷','林学思'],\n",
    "    'age' : [17,18,19],\n",
    "    'high' : [175,178,170]\n",
    "}\n",
    "data2 = pandas.DataFrame(dic,index=[1,2,3])\n",
    "print('字典创建的二维数表为：\\n',data2)"
   ]
  },
  {
   "cell_type": "code",
   "execution_count": 13,
   "metadata": {},
   "outputs": [
    {
     "name": "stdout",
     "output_type": "stream",
     "text": [
      "创建的二维数表为：\n",
      "     0   1   2   3   4   5\n",
      "1  14  10  31  26  27  37\n",
      "2  12  40  33  10  45  21\n",
      "3  35  11  44  21  12  45\n",
      "4  14  46  22  34  42  20\n",
      "5  19  44  14  38  19  17\n",
      "成绩表如下：\n",
      "      张三  李四\n",
      "语文  150   0\n",
      "数学  150   0\n",
      "英语  150   0\n",
      "理综  300   0\n"
     ]
    }
   ],
   "source": [
    "'''\n",
    "    练习1 ：用randint函数创建一个\n",
    "    10-50区间5x6的随机整数DataFram\n",
    "'''\n",
    "numpy.random.seed(43)\n",
    "dt1 = pandas.DataFrame(numpy.random.randint(10,51,size=(5,6)),index=[1,2,3,4,5])\n",
    "print('创建的二维数表为：\\n',dt1)\n",
    "\n",
    "'''\n",
    "    2、根据以下考试成绩表，\n",
    "    创建一个DataFrame，命名为df：\n",
    "'''\n",
    "dic2 = {\n",
    "    '张三' : [150,150,150,300],\n",
    "    '李四' : [0,0,0,0]\n",
    "}\n",
    "df = pandas.DataFrame(dic2,index=['语文','数学','英语','理综'])\n",
    "print('成绩表如下：\\n',df)\n"
   ]
  },
  {
   "cell_type": "code",
   "execution_count": 1,
   "metadata": {},
   "outputs": [
    {
     "data": {
      "text/plain": [
       "\"\\n    使用read_csv()函数读取 .csv 文件，读取后\\n    形成一个dataframe 对象\\n    默认的encoding 为 utf-8\\n    # encoding 编码 一般是 utf-8，如果默认不行尝试'gbk','gbk2312' header 是去表头 sep 表示接受str且分隔符 \\n    # nrows 是指定读取多少行 index_col 表示索引列的位置 names 表示列名（接收array） usecols 表示接受选定的数据，类型为array \\n\""
      ]
     },
     "execution_count": 1,
     "metadata": {},
     "output_type": "execute_result"
    }
   ],
   "source": [
    "'''\n",
    "    使用read_csv()函数读取 .csv 文件，读取后\n",
    "    形成一个dataframe 对象\n",
    "    默认的encoding 为 utf-8\n",
    "    # encoding 编码 一般是 utf-8，如果默认不行尝试'gbk','gbk2312' header 是去表头 sep 表示接受str且分隔符 \n",
    "    # nrows 是指定读取多少行 index_col 表示索引列的位置 names 表示列名（接收array） usecols 表示接受选定的数据，类型为array \n",
    "'''\n",
    "# Analyse = pandas.read_csv('C:\\\\Users\\\\26440\\\\Desktop\\\\jupyter_ipynb\\\\python_source\\\\data\\\\data1.csv',encoding='gbk',header=None,names=['岗位id','岗位名称','工资','人数','行业'],index_col='岗位id',usecols=['岗位id','岗位名称','人数'],nrows=10)\n",
    "# print(Analyse)\n"
   ]
  },
  {
   "cell_type": "code",
   "execution_count": 4,
   "metadata": {},
   "outputs": [
    {
     "name": "stdout",
     "output_type": "stream",
     "text": [
      "                     positionName  companyId companySize   industrtld\n",
      "positionId                                                           \n",
      "6802721                      数据分析     475770     50-150人     移动互联网,电商\n",
      "5204912                      数据建模      50735    150-500人           电商\n",
      "6877668                      数据分析     100125     2000人以上   移动互联网,企业服务\n",
      "6496141                      数据分析      26564   500-2000人           电商\n",
      "6467417                      数据分析      29211     2000人以上        物流丨运输\n",
      "...                           ...        ...         ...          ...\n",
      "6884346                     数据分析师      21236   500-2000人  移动互联网,医疗丨健康\n",
      "6849100                    商业数据分析      72076   500-2000人     移动互联网,电商\n",
      "6803432           奔驰·耀出行-BI数据分析专家     751158    150-500人        移动互联网\n",
      "6704835                   BI数据分析师      52840     2000人以上           电商\n",
      "6728058     数据分析专家-LQ(J181203029)       2474     2000人以上        汽车丨出行\n",
      "\n",
      "[105 rows x 4 columns]\n"
     ]
    }
   ],
   "source": [
    "'''\n",
    "    (1) 取消第一行作为表头；\n",
    "    (2) 为各个列取名，依次添加列名为positionId、positionName、companyId、companySize、industryField的表头；\n",
    "    (3) 将positionId列设为索引；\n",
    "    (4) 用sep参数设置分隔符为逗号；\n",
    "'''\n",
    "Analyst = pandas.read_csv('C:\\\\Users\\\\26440\\\\Desktop\\\\jupyter_ipynb\\\\python_source\\\\data\\\\data1.csv',\n",
    "                          encoding='gbk',sep=',',header=None,names=['positionId','positionName','companyId','companySize','industrtld'],\n",
    "                          index_col='positionId')\n",
    "print(Analyst)"
   ]
  },
  {
   "cell_type": "code",
   "execution_count": 9,
   "metadata": {},
   "outputs": [
    {
     "name": "stdout",
     "output_type": "stream",
     "text": [
      "     6802721                   数据分析  475770    50-150人     移动互联网,电商\n",
      "0    5204912                   数据建模   50735   150-500人           电商\n",
      "1    6877668                   数据分析  100125    2000人以上   移动互联网,企业服务\n",
      "2    6496141                   数据分析   26564  500-2000人           电商\n",
      "3    6467417                   数据分析   29211    2000人以上        物流丨运输\n",
      "4    6882347                   数据分析   94826    50-150人     移动互联网,社交\n",
      "..       ...                    ...     ...        ...          ...\n",
      "99   6884346                  数据分析师   21236  500-2000人  移动互联网,医疗丨健康\n",
      "100  6849100                 商业数据分析   72076  500-2000人     移动互联网,电商\n",
      "101  6803432        奔驰·耀出行-BI数据分析专家  751158   150-500人        移动互联网\n",
      "102  6704835                BI数据分析师   52840    2000人以上           电商\n",
      "103  6728058  数据分析专家-LQ(J181203029)    2474    2000人以上        汽车丨出行\n",
      "\n",
      "[104 rows x 5 columns]\n"
     ]
    }
   ],
   "source": [
    "'''\n",
    "    # 复习：read_csv()函数\n",
    "'''\n",
    "data3 = pandas.read_csv('C:\\\\Users\\\\26440\\\\Desktop\\\\jupyter_ipynb\\\\p'\n",
    "                        'ython_source\\\\data\\\\data1.csv',encoding='gbk',header=None)\n",
    "print(data3)"
   ]
  },
  {
   "cell_type": "code",
   "execution_count": 11,
   "metadata": {},
   "outputs": [],
   "source": [
    "'''\n",
    "    file.to_csv() 写入文件\n",
    "'''\n",
    "data3.to_csv('haha.csv',encoding='utf-8-sig',header=None,index=False)"
   ]
  },
  {
   "cell_type": "code",
   "execution_count": 54,
   "metadata": {},
   "outputs": [],
   "source": [
    "'''\n",
    "    把上面第8题df中的数据 ，写入到df_08.csv文件中，保存时设置去除索引。\n",
    "    把上面第8题df中的数据 ，写入到df_08.xls文件中，sheet页的名字为\n",
    "    “成绩表”，保存时设置去除索引。\n",
    "'''\n",
    "df.to_csv('df_21.csv',encoding='utf-8',index=False)\n",
    "df.to_excel('df_21.xlsx',index=False,sheet_name = '成绩表')"
   ]
  },
  {
   "cell_type": "code",
   "execution_count": 53,
   "metadata": {},
   "outputs": [
    {
     "name": "stdout",
     "output_type": "stream",
     "text": [
      "           name       date\n",
      "id                        \n",
      "700002.BJ  浦发银行 2017-02-22\n",
      "700003.BJ  浦发银行 2017-02-23\n",
      "700004.BJ  浦发银行 2017-02-24\n"
     ]
    }
   ],
   "source": [
    "'''\n",
    "    read_excel()函数 读取 .xls 文件\n",
    "    1. sheet_name 表单名\n",
    "    2. usecols 读取单独文件中的某几列\n",
    "    3. skiprows 接受list、int、callable 表示读取数据开头跳过的行数\n",
    "    4. index_col 表示索引列的位置\n",
    "'''\n",
    "data4 = pandas.read_excel('C:\\\\Users\\\\26440\\\\Desktop\\\\jupyter_ipynb\\\\python_source\\\\data\\\\data2.xls',names=['id','name','date','s_price','e_price'],\n",
    "                          nrows=3,sheet_name=1,index_col='id',usecols=[0,1,2],skiprows=1,header=1)\n",
    "print(data4)"
   ]
  },
  {
   "cell_type": "code",
   "execution_count": 40,
   "metadata": {},
   "outputs": [],
   "source": [
    "'''\n",
    "    将 data4 的数据 写入excel \n",
    "'''\n",
    "data4.to_excel('haha1.xlsx')"
   ]
  },
  {
   "cell_type": "code",
   "execution_count": null,
   "metadata": {},
   "outputs": [],
   "source": []
  }
 ],
 "metadata": {
  "kernelspec": {
   "display_name": "base",
   "language": "python",
   "name": "python3"
  },
  "language_info": {
   "codemirror_mode": {
    "name": "ipython",
    "version": 3
   },
   "file_extension": ".py",
   "mimetype": "text/x-python",
   "name": "python",
   "nbconvert_exporter": "python",
   "pygments_lexer": "ipython3",
   "version": "3.12.3"
  }
 },
 "nbformat": 4,
 "nbformat_minor": 2
}
