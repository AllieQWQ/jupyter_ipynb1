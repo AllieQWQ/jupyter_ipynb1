{
 "cells": [
  {
   "cell_type": "code",
   "execution_count": null,
   "metadata": {},
   "outputs": [],
   "source": [
    "'''\n",
    "    4.2 用pandas进行数据预处理\n",
    "    --数据清洗\n",
    "    利用 list()列表去重，集合 set() 元素唯一的特性去重\n",
    "    duplicated() 判断数据当中是否有重复元素\n",
    "    duplicated().value_counts() / sum() 函数统计重复数据的个数\n",
    "    drop_duplicates()函数 表示删除数据框中的重复数据\n",
    "'''\n",
    "import pandas\n",
    "dl = pandas.read_csv(\n",
    "    'C:\\\\Users\\\\26440\\\\Desktop\\\\jupyter_ipynb\\\\python_source\\\\data\\\\user_download.csv',\n",
    "    encoding='gbk'\n",
    "    )\n",
    "dl.info()"
   ]
  },
  {
   "cell_type": "code",
   "execution_count": null,
   "metadata": {},
   "outputs": [],
   "source": [
    "# duplicated() 判断数据当中是否有重复元素\n",
    "dl.duplicated()\n",
    "\n",
    "# 统计缺失值的数量 False = 0，True = 1\n",
    "dl.duplicated().sum()\n",
    "\n",
    "# 统计重复行、非重复行的数量\n",
    "dl.duplicated().value_counts()\n",
    "\n",
    "# 将全部重复值所在行筛选出来 -> df.loc[]  (根据条件筛选)\n",
    "dl.loc[dl.duplicated(),:]\n",
    "\n",
    "# 查找指定重复值：查找'用户编号'列全部重复值\n",
    "dl.用户编号.duplicated()                # 方法一\n",
    "dl.loc[dl.是否愿意下载.duplicated(),:]  # 方法二"
   ]
  },
  {
   "cell_type": "code",
   "execution_count": null,
   "metadata": {},
   "outputs": [],
   "source": [
    "# 删除重复值 drop_duplicates() 函数表示删除数据框中重复数据 \n",
    "dl.drop_duplicates(inplace=True) #返回删除后的结果，对原始数据本身不做修改，若要修改，设置inplace\n",
    "dl\n",
    "\n",
    "# subset 接收str或sequence 表示进行去重的列， keep 接收str 表示重复时保留第几个数据，first 表示默认第一个，last 表示最后一个，False 表示只要有重复的都不保留\n",
    "demo = dl.drop_duplicates(subset='是否愿意下载',keep='last')\n",
    "demo"
   ]
  },
  {
   "cell_type": "code",
   "execution_count": null,
   "metadata": {},
   "outputs": [],
   "source": [
    "# 查看缺失值的方法：info()\n",
    "dl.info()\n",
    "dl.isnull()\n",
    "dl.notnull()\n",
    "dl.isnull().sum()\n",
    "dl.notnull().sum()\n",
    "# 查看全部缺失值所在的行 ——> 查找条件 ——>df.loc\n",
    "dl.loc[dl.isnull().any(axis=1),:]"
   ]
  },
  {
   "cell_type": "code",
   "execution_count": null,
   "metadata": {},
   "outputs": [],
   "source": [
    "# 删除法 ——> drop(): 通过删除列的方法处理缺失值 subset 来指定列\n",
    "\n",
    "#dl.drop(['用户编号','是否愿意下载'],axis=1)  #判断哪些列是空值，删除指定的行列\n",
    "\n",
    "#dropna() 方法删除缺失值    how 参数为 all 时 表示当且仅当全部为缺失值时才执行删除操作 ，any表示有空值就删除\n",
    "dl2 = dl.dropna(axis=1,how='all') # 1是列 0是行\n",
    "dl2\n",
    "\n"
   ]
  },
  {
   "cell_type": "code",
   "execution_count": null,
   "metadata": {},
   "outputs": [],
   "source": [
    "# 替换法 fillna() 函数\n",
    "#E.g1:将所有空值填充为 yes\n",
    "dl3 = dl.fillna(value='yes')\n",
    "dl3\n",
    "\n",
    "#E.g2:列的均值 报错是因为空值为字符串型，这里只是举例说明样例\n",
    "dl4 = dl.fillna(dl.mean())\n",
    "dl4\n",
    "\n",
    "#E.g3:字典的映射\n",
    "dit = {\n",
    "    '用户编号' : 5000,\n",
    "    '是否愿意下载' : 'yes'\n",
    "}\n",
    "dl5 = dl.fillna(value=dit)\n",
    "dl5\n",
    "\n",
    "#E.g4: 用缺失值前面的有效值来从前往后填充（forward-fill）\n",
    "dl6 = dl.fillna(method='ffill')\n",
    "\n",
    "#E.g5: 用缺失值前面的有效值来从后往前填充（back-fill）\n",
    "dl7 = dl.fillna(method='bfill')\n",
    "dl7"
   ]
  },
  {
   "cell_type": "code",
   "execution_count": null,
   "metadata": {},
   "outputs": [],
   "source": []
  }
 ],
 "metadata": {
  "kernelspec": {
   "display_name": "base",
   "language": "python",
   "name": "python3"
  },
  "language_info": {
   "codemirror_mode": {
    "name": "ipython",
    "version": 3
   },
   "file_extension": ".py",
   "mimetype": "text/x-python",
   "name": "python",
   "nbconvert_exporter": "python",
   "pygments_lexer": "ipython3",
   "version": "3.12.3"
  }
 },
 "nbformat": 4,
 "nbformat_minor": 2
}
