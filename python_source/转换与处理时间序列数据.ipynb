{
 "cells": [
  {
   "cell_type": "code",
   "execution_count": 64,
   "metadata": {},
   "outputs": [
    {
     "name": "stdout",
     "output_type": "stream",
     "text": [
      "<class 'pandas._libs.tslibs.timedeltas.Timedelta'>\n",
      "<class 'pandas.core.frame.DataFrame'>\n",
      "DatetimeIndex(['2020-07-31 22:01:00', '2020-07-23 06:12:00',\n",
      "               '2020-07-13 09:30:00', '2020-06-30 14:26:00',\n",
      "               '2020-06-23 20:21:00', '2020-06-20 13:41:00',\n",
      "               '2020-05-24 07:03:00', '2020-05-22 17:44:00',\n",
      "               '2020-05-14 09:30:00', '2020-04-30 21:28:00',\n",
      "               ...\n",
      "               '2014-02-13 06:47:00', '2014-01-15 02:46:00',\n",
      "               '2014-01-12 16:00:00', '2014-01-08 17:05:00',\n",
      "               '2013-12-23 08:30:00', '2013-12-08 03:10:00',\n",
      "               '2013-11-21 01:50:00', '2013-10-12 16:06:00',\n",
      "               '2013-10-09 17:27:00', '2013-09-24 15:31:00'],\n",
      "              dtype='datetime64[ns]', name='date', length=3008, freq=None)\n"
     ]
    }
   ],
   "source": [
    "import pandas\n",
    "# 最基础的时间类，表示某个时间点。绝大多数的场景中的时间数据都是Timestamp形式（datatime）\n",
    "Time = pandas.Timestamp('2024-11-7 10:44:00')\n",
    "time = pandas.Timedelta(days=50)\n",
    "print(type(time))\n",
    "Info = pandas.read_csv(\n",
    "    'C:\\\\Users\\\\26440\\\\Desktop\\\\jupyter_ipynb\\\\python_source\\\\data\\\\musicdata.csv',encoding='gbk'\n",
    "    ,index_col='date',parse_dates=True)\n",
    "print(type(Info))\n",
    "print(Info.index)"
   ]
  },
  {
   "cell_type": "code",
   "execution_count": 65,
   "metadata": {},
   "outputs": [
    {
     "name": "stdout",
     "output_type": "stream",
     "text": [
      "DatetimeIndex(['2020-07-31 22:01:00', '2020-07-23 06:12:00',\n",
      "               '2020-07-13 09:30:00', '2020-06-30 14:26:00',\n",
      "               '2020-06-23 20:21:00', '2020-06-20 13:41:00',\n",
      "               '2020-05-24 07:03:00', '2020-05-22 17:44:00',\n",
      "               '2020-05-14 09:30:00', '2020-04-30 21:28:00',\n",
      "               ...\n",
      "               '2014-02-13 06:47:00', '2014-01-15 02:46:00',\n",
      "               '2014-01-12 16:00:00', '2014-01-08 17:05:00',\n",
      "               '2013-12-23 08:30:00', '2013-12-08 03:10:00',\n",
      "               '2013-11-21 01:50:00', '2013-10-12 16:06:00',\n",
      "               '2013-10-09 17:27:00', '2013-09-24 15:31:00'],\n",
      "              dtype='datetime64[ns]', name='date', length=3008, freq=None)\n",
      "PeriodIndex(['2020', '2020', '2020', '2020', '2020', '2020', '2020', '2020',\n",
      "             '2020', '2020',\n",
      "             ...\n",
      "             '2014', '2014', '2014', '2014', '2013', '2013', '2013', '2013',\n",
      "             '2013', '2013'],\n",
      "            dtype='period[Y-DEC]', name='date', length=3008)\n"
     ]
    },
    {
     "data": {
      "text/plain": [
       "Index([2020, 2020, 2020, 2020, 2020, 2020, 2020, 2020, 2020, 2020,\n",
       "       ...\n",
       "       2014, 2014, 2014, 2014, 2013, 2013, 2013, 2013, 2013, 2013],\n",
       "      dtype='int32', name='date', length=3008)"
      ]
     },
     "execution_count": 65,
     "metadata": {},
     "output_type": "execute_result"
    }
   ],
   "source": [
    "import pandas\n",
    "Info = pandas.read_csv(\n",
    "    'C:\\\\Users\\\\26440\\\\Desktop\\\\jupyter_ipynb\\\\python_source\\\\data\\\\musicdata.csv',encoding='gbk'\n",
    "    )\n",
    "#Info.dtypes\n",
    "\n",
    "#1、时间相关的字符串转换成为Timestamp  ——> to_datatime()\n",
    "Info['date'] = pandas.to_datetime(Info['date'])\n",
    "#print(Info)\n",
    "Info.dtypes\n",
    "\n",
    "#2、转换成DatatimeIndex 是用于指代一系列时间点的一种数据结构\n",
    "data1 = pandas.DatetimeIndex(Info['date'])\n",
    "print(data1)\n",
    "\n",
    "#3、转换成PeriodIndex 则是用于指代一系列时间段的数据结构\n",
    "data2 = pandas.PeriodIndex(Info['date'],freq='Y')   #freq 表示 Y：year/M：month/D：day/H：hour/S：seconds\n",
    "print(data2)\n",
    "\n",
    "#提取时间序列\n",
    "Info['date'].dt.dayofyear   #一年中的第几天\n",
    "\n",
    "data1 = pandas.DatetimeIndex(Info['date'])\n",
    "data1.month #提取月\n",
    "data1.year  #提取年\n",
    "\n",
    "# year1 = [i.year for i in data1['date']]\n",
    "# year1"
   ]
  },
  {
   "cell_type": "code",
   "execution_count": 66,
   "metadata": {},
   "outputs": [
    {
     "name": "stdout",
     "output_type": "stream",
     "text": [
      "字典创建的二维数表为：\n",
      "          time  temp\n",
      "0  2010-10-10    33\n",
      "1  2011-11-20    31\n",
      "2  2020-01-10    30\n",
      "<class 'pandas.core.series.Series'>\n",
      "time    datetime64[ns]\n",
      "temp             int64\n",
      "dtype: object\n",
      "DatetimeIndex(['2010-10-10', '2011-11-20', '2020-01-10'], dtype='datetime64[ns]', name='time', freq=None)\n",
      "PeriodIndex(['2010', '2011', '2020'], dtype='period[Y-DEC]', name='time')\n"
     ]
    }
   ],
   "source": [
    "dic = {\n",
    "    'time' : ['2010-10-10','2011-11-20','2020-01-10'],\n",
    "    'temp' : [33,31,30],\n",
    "}\n",
    "data2 = pandas.DataFrame(dic)\n",
    "print('字典创建的二维数表为：\\n',data2)\n",
    "print(type(data2['time']))\n",
    "\n",
    "data2['time'] = pandas.to_datetime(data2['time'])   #time列的数据类型转换成时间序列类型;\n",
    "print(data2.dtypes)\n",
    "\n",
    "data3 = pandas.DatetimeIndex(data2['time'])         #time列数据格式转换成DatetimeIndex格式\n",
    "print(data3)\n",
    "\n",
    "data4 = pandas.PeriodIndex(data2['time'],freq='Y')\n",
    "print(data4)\n",
    "\n"
   ]
  },
  {
   "cell_type": "code",
   "execution_count": 67,
   "metadata": {},
   "outputs": [
    {
     "name": "stdout",
     "output_type": "stream",
     "text": [
      "DatetimeIndex(['2021-09-25 07:30:00', '2021-09-26 07:30:00',\n",
      "               '2021-09-27 07:30:00'],\n",
      "              dtype='datetime64[ns]', freq=None)\n",
      "0   2021-09-25 07:30:00\n",
      "1   2021-09-26 07:30:00\n",
      "2   2021-09-27 07:30:00\n",
      "dtype: datetime64[ns]\n",
      "提取的年：\n",
      " 0    2021\n",
      "1    2021\n",
      "2    2021\n",
      "dtype: int32\n",
      "提取的月：\n",
      " 0    9\n",
      "1    9\n",
      "2    9\n",
      "dtype: int32\n",
      "提取的日：\n",
      " 0    25\n",
      "1    26\n",
      "2    27\n",
      "dtype: int32\n",
      "一周第几天：\n",
      " 0    5\n",
      "1    6\n",
      "2    0\n",
      "dtype: int32\n"
     ]
    }
   ],
   "source": [
    "dict1 = ['2021-09-25 07:30:00',\n",
    "    '2021-09-26 07:30:00',\n",
    "    '2021-09-27 07:30:00'\n",
    "    ]\n",
    "S1 = pandas.to_datetime(dict1)      #转换为时间序列\n",
    "print(S1)\n",
    "S2 = pandas.Series(S1)      # 转换成Series 一维表\n",
    "print(S2)\n",
    "\n",
    "#提取时间序列的年、月、日、一周第几天相关属性\n",
    "Year = S2.dt.year\n",
    "print('提取的年：\\n',Year) \n",
    "\n",
    "Month = S2.dt.month\n",
    "print('提取的月：\\n',Month)\n",
    "\n",
    "Day = S2.dt.day\n",
    "print('提取的日：\\n',Day)\n",
    "\n",
    "dayofyear = S2.dt.weekday   #一周第几天的相关属性   日期在输出基础上+1 才是现实世界的星期\n",
    "print('一周第几天：\\n',dayofyear)        \n"
   ]
  },
  {
   "cell_type": "code",
   "execution_count": 69,
   "metadata": {},
   "outputs": [
    {
     "name": "stdout",
     "output_type": "stream",
     "text": [
      "            地区邮编     房屋价格   房屋类型  配套房间数\n",
      "房屋出售时间                                 \n",
      "2010-01-04  2615   435000  house      3\n",
      "2010-01-05  2904   712000  house      4\n",
      "2010-01-06  2617   435000  house      4\n",
      "2010-01-06  2606  1350000  house      5\n",
      "2010-01-07  2905   612500  house      4\n",
      "...          ...      ...    ...    ...\n",
      "2019-07-25  2900   500000   unit      3\n",
      "2019-07-25  2612   560000   unit      2\n",
      "2019-07-26  2912   464950   unit      2\n",
      "2019-07-26  2601   589000   unit      2\n",
      "2019-07-26  2612   775000   unit      2\n",
      "\n",
      "[27368 rows x 4 columns] 地区邮编      int64\n",
      "房屋价格      int64\n",
      "房屋类型     object\n",
      "配套房间数     int64\n",
      "dtype: object\n",
      "2010年三月份的数据记录             地区邮编     房屋价格   房屋类型  配套房间数\n",
      "房屋出售时间                                 \n",
      "2010-03-01  2906   395000  house      3\n",
      "2010-03-01  2902   435000  house      3\n",
      "2010-03-01  2902   445000  house      4\n",
      "2010-03-01  2904   460000  house      3\n",
      "2010-03-01  2906   590000  house      4\n",
      "...          ...      ...    ...    ...\n",
      "2010-03-19  2604  1200000   unit      2\n",
      "2010-03-29  2612   385000   unit      1\n",
      "2010-03-30  2602   353500   unit      1\n",
      "2010-03-30  2602   400000   unit      2\n",
      "2010-03-31  2617   420000   unit      2\n",
      "\n",
      "[141 rows x 4 columns]\n",
      "取出3月份之后，每个月第一天的数据             地区邮编    房屋价格   房屋类型  配套房间数\n",
      "房屋出售时间                                \n",
      "2010-04-01  2906  359000  house      3\n",
      "2010-04-01  2604  425000  house      2\n",
      "2010-04-01  2611  427000  house      3\n",
      "2010-04-01  2906  439950  house      3\n",
      "2010-04-01  2615  440150  house      3\n",
      "...          ...     ...    ...    ...\n",
      "2019-07-01  2611  325000   unit      2\n",
      "2019-07-01  2612  370000   unit      1\n",
      "2019-07-01  2617  373000   unit      2\n",
      "2019-07-01  2617  393788   unit      2\n",
      "2019-07-01  2900  415000   unit      2\n",
      "\n",
      "[698 rows x 4 columns]\n",
      "发生错误： 'Value based partial slicing on non-monotonic DatetimeIndexes with non-existing keys is not allowed.'\n"
     ]
    }
   ],
   "source": [
    "df = pandas.read_csv('C:\\\\Users\\\\26440\\\\Desktop\\\\jupyter_ipynb\\\\python_source\\\\data\\\\某地区房屋销售数据.csv'\n",
    "                     ,encoding='gbk',index_col='房屋出售时间',parse_dates=True)\n",
    "print(df,df.dtypes)\n",
    "#df.loc['2010-01-05':'2010-01-20',:]  #取出2010-01-05至 2010-01-20的记录\n",
    "print('2010年三月份的数据记录',df.loc['2010-03',:])     #取出2010年三月份的数据记录；方法1\n",
    "#print(df.loc[(df.index.year==2010)&(df.index.month==3),:]) #方法2\n",
    "\n",
    "print('取出3月份之后，每个月第一天的数据',df.loc[(df.index.month>3)&(df.index.day==1),:])  #取出3月份之后，每个月第一天的数据；\n",
    "try:\n",
    "    print(df.loc['2010-03':'2010-05'])\n",
    "except Exception as e:\n",
    "    print(\"发生错误：\", e)\n"
   ]
  },
  {
   "cell_type": "code",
   "execution_count": 73,
   "metadata": {},
   "outputs": [
    {
     "name": "stdout",
     "output_type": "stream",
     "text": [
      "date向前平移2天:\n",
      " 0       2010-01-06\n",
      "1       2010-01-07\n",
      "2       2010-01-08\n",
      "3       2010-01-08\n",
      "4       2010-01-09\n",
      "           ...    \n",
      "27363   2019-07-27\n",
      "27364   2019-07-27\n",
      "27365   2019-07-28\n",
      "27366   2019-07-28\n",
      "27367   2019-07-28\n",
      "Name: 房屋出售时间, Length: 27368, dtype: datetime64[ns]\n"
     ]
    }
   ],
   "source": [
    "df = pandas.read_csv('C:\\\\Users\\\\26440\\\\Desktop\\\\jupyter_ipynb\\\\python_source\\\\data\\\\某地区房屋销售数据.csv'\n",
    "                     ,encoding='gbk')\n",
    "df['房屋出售时间'] = pandas.to_datetime(df['房屋出售时间'])\n",
    "df['房屋出售时间'] = df['房屋出售时间'] + pandas.Timedelta(days=2)\n",
    "print('date向前平移2天:\\n',df['房屋出售时间'])\n"
   ]
  },
  {
   "cell_type": "code",
   "execution_count": 72,
   "metadata": {},
   "outputs": [
    {
     "name": "stdout",
     "output_type": "stream",
     "text": [
      "date向前平移2天:\n",
      " 0       2010-01-02\n",
      "1       2010-01-03\n",
      "2       2010-01-04\n",
      "3       2010-01-04\n",
      "4       2010-01-05\n",
      "           ...    \n",
      "27363   2019-07-23\n",
      "27364   2019-07-23\n",
      "27365   2019-07-24\n",
      "27366   2019-07-24\n",
      "27367   2019-07-24\n",
      "Name: 房屋出售时间, Length: 27368, dtype: datetime64[ns]\n"
     ]
    }
   ],
   "source": [
    "df['房屋出售时间'] = pandas.to_datetime(df['房屋出售时间'])\n",
    "df['房屋出售时间'] = df['房屋出售时间'] - pandas.Timedelta(days=2)\n",
    "print('date向前平移2天:\\n',df['房屋出售时间'])"
   ]
  },
  {
   "cell_type": "code",
   "execution_count": 80,
   "metadata": {},
   "outputs": [
    {
     "name": "stdout",
     "output_type": "stream",
     "text": [
      "0          5 days\n",
      "1          6 days\n",
      "2          7 days\n",
      "3          7 days\n",
      "4          8 days\n",
      "           ...   \n",
      "27363   3494 days\n",
      "27364   3494 days\n",
      "27365   3495 days\n",
      "27366   3495 days\n",
      "27367   3495 days\n",
      "Name: 房屋出售时间, Length: 27368, dtype: timedelta64[ns]\n"
     ]
    }
   ],
   "source": [
    "df['房屋出售时间'] = pandas.to_datetime(df['房屋出售时间'])\n",
    "diff = df['房屋出售时间'] - pandas.Timestamp('2010-1-1')\n",
    "print(diff)"
   ]
  },
  {
   "cell_type": "code",
   "execution_count": 79,
   "metadata": {},
   "outputs": [
    {
     "data": {
      "text/plain": [
       "Timedelta('3491 days 00:00:00')"
      ]
     },
     "execution_count": 79,
     "metadata": {},
     "output_type": "execute_result"
    }
   ],
   "source": [
    "dif = df['房屋出售时间'].max() - df['房屋出售时间'].min()\n",
    "dif"
   ]
  },
  {
   "cell_type": "code",
   "execution_count": null,
   "metadata": {},
   "outputs": [],
   "source": []
  }
 ],
 "metadata": {
  "kernelspec": {
   "display_name": "base",
   "language": "python",
   "name": "python3"
  },
  "language_info": {
   "codemirror_mode": {
    "name": "ipython",
    "version": 3
   },
   "file_extension": ".py",
   "mimetype": "text/x-python",
   "name": "python",
   "nbconvert_exporter": "python",
   "pygments_lexer": "ipython3",
   "version": "3.12.3"
  }
 },
 "nbformat": 4,
 "nbformat_minor": 2
}
