{
 "cells": [
  {
   "cell_type": "code",
   "execution_count": 28,
   "metadata": {},
   "outputs": [
    {
     "name": "stdout",
     "output_type": "stream",
     "text": [
      "['0', '1', '10', '2', '3', '1', '4', '4', '0', '5']\n",
      "['<a href = \"link1.html\">first item</a></li>', '<a href = \"link2.html\">second item</a></li>', '<a href = \"link3.html\">third item</a>', '<a href = \"link4.html\" id = \"link4\">fourth item</a></li>', '<a href = \"link5.html\">fifth item</a></li>']\n",
      "<div>\n",
      "*<ul>\n",
      "****<li*class=\"item-0\"><a*href*=*\"link1.html\">first*item</a></li>\n",
      "****<li*class=\"item-10\"><a*href*=*\"link2.html\">second*item</a></li>\n",
      "****<li*class=\"item-inactiov\">\n",
      "********<a*href*=*\"link3.html\">third*item</a>\n",
      "****</li>\n",
      "****<li*class=\"item-1\"><a*href*=*\"link4.html\"*id*=*\"link4\">fourth*item</a></li>\n",
      "****<li*class=\"else-0\"><a*href*=*\"link5.html\">fifth*item</a></li>\n",
      "****another*item\n",
      "**</ul>\n",
      "</div>\n"
     ]
    }
   ],
   "source": [
    "import re\n",
    "from bs4 import BeautifulSoup\n",
    "htmlString = '''<div>\n",
    " <ul>\n",
    "    <li class=\"item-0\"><a href = \"link1.html\">first item</a></li>\n",
    "    <li class=\"item-10\"><a href = \"link2.html\">second item</a></li>\n",
    "    <li class=\"item-inactiov\">\n",
    "        <a href = \"link3.html\">third item</a>\n",
    "    </li>\n",
    "    <li class=\"item-1\"><a href = \"link4.html\" id = \"link4\">fourth item</a></li>\n",
    "    <li class=\"else-0\"><a href = \"link5.html\">fifth item</a></li>\n",
    "    another item\n",
    "  </ul>\n",
    "</div>'''\n",
    "# 找出字符串的所有数字\n",
    "list = re.findall(r'\\d+',htmlString)\n",
    "print(list)\n",
    "\n",
    "# 找出所有的 'li' 标签\n",
    "# list_li = BeautifulSoup(htmlString,'html.parser')\n",
    "# li_tags = list_li.find_all('li')\n",
    "# for tag in li_tags:\n",
    "#     print(tag)\n",
    "\n",
    "a_list = re.findall(r'<a.*</a.*>',htmlString)\n",
    "print(a_list)\n",
    "\n",
    "\n",
    "repleace_a = re.sub(r' ','*',htmlString)    #sub()只能进行替换操作，不能进行提取操作\n",
    "print(repleace_a) \n",
    "\n",
    "# a = BeautifulSoup(htmlString,'html.parser')\n",
    "# for i in a.find_all('a'):\n",
    "#     text = i.get_text().replace(' ','*')\n",
    "#     i.string.replace_with(text)\n",
    "# new_html = str(a)\n",
    "# print(new_html)\n",
    "\n"
   ]
  },
  {
   "cell_type": "code",
   "execution_count": 29,
   "metadata": {},
   "outputs": [
    {
     "name": "stdout",
     "output_type": "stream",
     "text": [
      "first*item\n",
      "second*item\n",
      "third*item\n",
      "fourth*item\n",
      "fifth*item\n"
     ]
    }
   ],
   "source": [
    "# 将 'a' 标签文本中 空格 替换成 '*'\n",
    "list2 = re.findall(r'<a .*\">(.*)</a>',htmlString)\n",
    "for text in list2:\n",
    "    text2 = re.sub(r'\\s','*',text)\n",
    "    print(text2)"
   ]
  },
  {
   "cell_type": "code",
   "execution_count": null,
   "metadata": {},
   "outputs": [],
   "source": []
  }
 ],
 "metadata": {
  "kernelspec": {
   "display_name": "base",
   "language": "python",
   "name": "python3"
  },
  "language_info": {
   "codemirror_mode": {
    "name": "ipython",
    "version": 3
   },
   "file_extension": ".py",
   "mimetype": "text/x-python",
   "name": "python",
   "nbconvert_exporter": "python",
   "pygments_lexer": "ipython3",
   "version": "3.12.3"
  }
 },
 "nbformat": 4,
 "nbformat_minor": 2
}
