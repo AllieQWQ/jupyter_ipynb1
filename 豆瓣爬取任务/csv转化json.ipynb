{
 "cells": [
  {
   "cell_type": "code",
   "execution_count": 2,
   "metadata": {},
   "outputs": [
    {
     "name": "stdout",
     "output_type": "stream",
     "text": [
      "      电影中文名                             电影英文名  \\\n",
      "0    肖申克的救赎          The Shawshank Redemption   \n",
      "1      霸王别姬  再见，我的妾  /  Farewell My Concubine   \n",
      "2      阿甘正传                      Forrest Gump   \n",
      "3     泰坦尼克号                           Titanic   \n",
      "4      千与千寻                          千と千尋の神隠し   \n",
      "..      ...                               ...   \n",
      "245    谍影重重               The Bourne Identity   \n",
      "246     朗读者                        The Reader   \n",
      "247    隐藏人物                    Hidden Figures   \n",
      "248    阿飞正传                              阿飛正傳   \n",
      "249    冰雪奇缘                            Frozen   \n",
      "\n",
      "                                        电影详情页链接  \\\n",
      "0     https://movie.douban.com/subject/1292052/   \n",
      "1     https://movie.douban.com/subject/1291546/   \n",
      "2     https://movie.douban.com/subject/1292720/   \n",
      "3     https://movie.douban.com/subject/1292722/   \n",
      "4     https://movie.douban.com/subject/1291561/   \n",
      "..                                          ...   \n",
      "245   https://movie.douban.com/subject/1304102/   \n",
      "246   https://movie.douban.com/subject/2213597/   \n",
      "247  https://movie.douban.com/subject/26615208/   \n",
      "248   https://movie.douban.com/subject/1305690/   \n",
      "249   https://movie.douban.com/subject/4202982/   \n",
      "\n",
      "                                            导演  \\\n",
      "0                   弗兰克·德拉邦特 Frank Darabont      \n",
      "1                            陈凯歌 Kaige Chen      \n",
      "2                  罗伯特·泽米吉斯 Robert Zemeckis      \n",
      "3                     詹姆斯·卡梅隆 James Cameron      \n",
      "4                        宫崎骏 Hayao Miyazaki      \n",
      "..                                         ...   \n",
      "245                        道格·里曼 Doug Liman      \n",
      "246                  史蒂芬·戴德利 Stephen Daldry      \n",
      "247                 特奥多尔·梅尔菲 Theodore Melfi      \n",
      "248                        王家卫 Kar Wai Wong      \n",
      "249  克里斯·巴克 Chris Buck / 珍妮弗·李 Jennifer Lee      \n",
      "\n",
      "                                        主演   上映年份         国籍           类型  \\\n",
      "0                  蒂姆·罗宾斯 Tim Robbins /...  1994          美国        犯罪 剧情   \n",
      "1    张国荣 Leslie Cheung / 张丰毅 Fengyi Zha...  1993   中国大陆 中国香港     剧情 爱情 同性   \n",
      "2                   汤姆·汉克斯 Tom Hanks / ...  1994          美国        剧情 爱情   \n",
      "3                   莱昂纳多·迪卡普里奥 Leonardo...  1997      美国 墨西哥     剧情 爱情 灾难   \n",
      "4            柊瑠美 Rumi Hîragi / 入野自由 Miy...  2001          日本     剧情 动画 奇幻   \n",
      "..                                     ...    ...        ...          ...   \n",
      "245           马特·达蒙 Matt Damon / 弗兰卡·波坦...  2002    美国 德国 捷克     动作 悬疑 惊悚   \n",
      "246               凯特·温丝莱特 Kate Winslet ...  2008       美国 德国        剧情 爱情   \n",
      "247                 塔拉吉·P·汉森 Taraji P. ...  2016          美国     剧情 传记 历史   \n",
      "248    张国荣 Leslie Cheung / 张曼玉 Maggie C...  1990        中国香港     犯罪 剧情 爱情   \n",
      "249                                克里斯汀...  2013          美国  喜剧 动画 奇幻 歌舞   \n",
      "\n",
      "      评分        评分人数  \n",
      "0    9.7  3076122人评价  \n",
      "1    9.6  2271143人评价  \n",
      "2    9.5  2290480人评价  \n",
      "3    9.5  2330619人评价  \n",
      "4    9.4  2379230人评价  \n",
      "..   ...         ...  \n",
      "245  8.6   456924人评价  \n",
      "246  8.6   472182人评价  \n",
      "247  8.9   242731人评价  \n",
      "248  8.5   542202人评价  \n",
      "249  8.5   751632人评价  \n",
      "\n",
      "[250 rows x 10 columns]\n"
     ]
    }
   ],
   "source": [
    "import pandas\n",
    "df1 = pandas.read_csv('C:\\\\Users\\\\26440\\\\Desktop\\\\jupyter_ipynb\\\\豆瓣爬取任务\\\\豆瓣电影Top250.csv')\n",
    "print(df1)\n",
    "df1_json = df1.to_json(orient='records',force_ascii=False)\n",
    "df1_json_path = './csv_json.json'\n",
    "with open(df1_json_path,'w',encoding='utf-8') as json_file:\n",
    "    json_file.write(df1_json)"
   ]
  },
  {
   "cell_type": "code",
   "execution_count": null,
   "metadata": {},
   "outputs": [],
   "source": []
  }
 ],
 "metadata": {
  "kernelspec": {
   "display_name": "base",
   "language": "python",
   "name": "python3"
  },
  "language_info": {
   "codemirror_mode": {
    "name": "ipython",
    "version": 3
   },
   "file_extension": ".py",
   "mimetype": "text/x-python",
   "name": "python",
   "nbconvert_exporter": "python",
   "pygments_lexer": "ipython3",
   "version": "3.12.3"
  }
 },
 "nbformat": 4,
 "nbformat_minor": 2
}
