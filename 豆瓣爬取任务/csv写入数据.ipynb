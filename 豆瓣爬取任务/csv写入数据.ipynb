{
 "cells": [
  {
   "cell_type": "code",
   "execution_count": 1,
   "metadata": {},
   "outputs": [],
   "source": [
    "import csv\n",
    "from lxml import etree\n",
    "import pandas as pd\n",
    "import numpy as np \n",
    "import requests\n",
    "url = 'https://www.douban.com/'\n",
    "head = {\n",
    "'user-agent':'Mozilla/5.0 (Windows NT 10.0; Win64; x64) AppleWebKit/537.36 (KHTML, like Gecko) Chrome/129.0.0.0 Safari/537.36 Edg/129.0.0.0'\n",
    "}\n",
    "res = requests.get(url,headers=head)\n",
    "res.encoding = res.apparent_encoding\n",
    "html = res.text\n",
    "# print(res.status_code)\n",
    "# print(html)\n",
    "s=etree.HTML(html)\n",
    "li = s.xpath('/html/body/div[5]/div/div[2]/div/div/ol/li')\n",
    "with open('./data.csv', 'a+', newline='',encoding='utf-8') as f:\n",
    "    for i in li:\n",
    "        r = i.xpath('a/text()')\n",
    "        f_csv = csv.writer(f)\n",
    "        f_csv.writerow(r)\n"
   ]
  },
  {
   "cell_type": "code",
   "execution_count": 2,
   "metadata": {},
   "outputs": [],
   "source": [
    "headers = ['岗位','薪资']\n",
    "rows = [\n",
    "    ['数据分析师', '15k-30k'], \n",
    "    ['资深数据分析师', '20k-40k'], \n",
    "    ['资深数据分析师', '15k-30k'], \n",
    "    ['资深数据分析师', '20k-40k'], \n",
    "    ['高级数据分析师', '8k-16k'], \n",
    "    ['高级数据分析师', '20k-25k']\n",
    "]\n",
    "with open('./lianxi1.csv','a+',newline='',encoding='utf-8')as f:\n",
    "    writer = csv.writer(f)\n",
    "    writer.writerow(headers)\n",
    "    for row in rows:\n",
    "        writer.writerow(row)"
   ]
  },
  {
   "cell_type": "code",
   "execution_count": 3,
   "metadata": {},
   "outputs": [],
   "source": [
    "Headers = ['岗位','薪资']\n",
    "Rows = [\n",
    "    ['数据分析师', '15k-30k']\n",
    "]\n",
    "with open('./lianxi2.csv','a+',newline='',encoding='utf-8')as f:\n",
    "    writer = csv.writer(f)\n",
    "    writer.writerow(Headers)\n",
    "    for i in Rows:\n",
    "        writer.writerow(i)\n"
   ]
  },
  {
   "cell_type": "code",
   "execution_count": 10,
   "metadata": {},
   "outputs": [],
   "source": [
    "headers = ['class', 'name', 'sex']\n",
    "students = [\n",
    "    {'class': 1, 'name': '小明', 'sex': '男'},\n",
    "    {'class': 2, 'name': '小红', 'sex': '女'},\n",
    "    {'class': 3, 'name': '小丽', 'sex': '女'}\n",
    "]\n",
    "\n",
    "with open('./lianxi3.csv', 'a+', newline='', encoding='utf-8') as f:\n",
    "    writer = csv.DictWriter(f, fieldnames=headers)\n",
    "    writer.writeheader()\n",
    "    for student in students:\n",
    "        writer.writerow(student)\n"
   ]
  },
  {
   "cell_type": "code",
   "execution_count": 9,
   "metadata": {},
   "outputs": [],
   "source": [
    "headers = ['岗位','薪资']\n",
    "headers = ['岗位', '薪资']\n",
    "\n",
    "rows = [\n",
    "    {'岗位': '数据分析师', '薪资': '15k-30k'},\n",
    "    {'岗位': '资深数据分析师', '薪资': '20k-40k'},\n",
    "    {'岗位': '资深数据分析师', '薪资': '15k-30k'},\n",
    "    {'岗位': '资深数据分析师', '薪资': '20k-40k'},\n",
    "    {'岗位': '高级数据分析师', '薪资': '8k-16k'},\n",
    "    {'岗位': '高级数据分析师', '薪资': '20k-25k'}\n",
    "]\n",
    "\n",
    "with open('./lianxi4.csv', 'w', newline='', encoding='utf-8') as f:\n",
    "    writer = csv.DictWriter(f, fieldnames=headers)\n",
    "    writer.writeheader()\n",
    "    writer.writerows(rows)"
   ]
  },
  {
   "cell_type": "code",
   "execution_count": null,
   "metadata": {},
   "outputs": [],
   "source": []
  }
 ],
 "metadata": {
  "kernelspec": {
   "display_name": "base",
   "language": "python",
   "name": "python3"
  },
  "language_info": {
   "codemirror_mode": {
    "name": "ipython",
    "version": 3
   },
   "file_extension": ".py",
   "mimetype": "text/x-python",
   "name": "python",
   "nbconvert_exporter": "python",
   "pygments_lexer": "ipython3",
   "version": "3.12.3"
  }
 },
 "nbformat": 4,
 "nbformat_minor": 2
}
