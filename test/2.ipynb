{
 "cells": [
  {
   "cell_type": "code",
   "execution_count": null,
   "metadata": {},
   "outputs": [],
   "source": [
    "import requests\n",
    "from lxml import etree\n",
    "import csv\n",
    "import re\n",
    "import time\n",
    "# 1.url管理器\n",
    "pageNum = 0\n",
    "for i in range(0,25,25):\n",
    "    url='https://movie.douban.com/top250?start={}&filter='.format(i)\n",
    "    # 2.网页下载\n",
    "    h={'user-Agent': 'Mozilla/5.0 (windows NT 10.0; Win64,x64) ApplewebKit/537.36 (KHTML,tike Gecko) chrome/122.0.6261.95 Sa'}\n",
    "    res=requests.get(url, headers=h)\n",
    "    res.encoding=res.apparent_encoding\n",
    "    html=res.text\n",
    "    #3.网页解析\n",
    "    domtree=etree.HTML(html)\n",
    "    liList = domtree.xpath('//div[@class=\"article\"]/ol/li')  #变量名，大小驼峰标识法\n",
    "    for li in liList:\n",
    "       rank = li.xpath('div/div[@class=\"pic\"]/em/text()')[0] #排名\n",
    "       moveName = li.xpath('.//div[@class=\"hd\"]/a/span[1]/text()') [0]#电影名\n",
    "       href = li.xpath('.//div[@class=\"hd\"]/a/@href')[0] #电影详情的url\n",
    "       h = {\n",
    "           'user-Agent': 'Mozilla/5.0 (windows NT 10.0; Win64,x64) ApplewebKit/537.36 (KHTML,tike Gecko) chrome/122.0.6261.95 Sa'}\n",
    "       res = requests.get(href, headers=h)\n",
    "       res.encoding = 'utf-8'\n",
    "       detailHtml = res.text\n",
    "       domtree = etree.HTML(detailHtml)\n",
    "       time.sleep(1)\n",
    "       infoElementList = domtree.xpath('//*[@id=\"info\"] ')\n",
    "       time.sleep(1)\n",
    "       infoHtmlString = etree.tostring(infoElementList[0], encoding='utf-8').decode('utf-8')\n",
    "       # 制片国家\n",
    "       countryList = re.findall(r'<span class=\"pl\">制片国家/地区:</span>(.*)<br/>', infoHtmlString)\n",
    "       countryString = countryList[0].strip()\n",
    "       print(\"国家：\")\n",
    "       print(countryString)\n",
    "       # 类型\n",
    "       typeList = infoElementList[0].xpath('.//span[@property=\"v:genre\"]/text()')\n",
    "       print(typeList)\n",
    "       typeString = ','.join(typeList)\n",
    "       print(typeString)\n",
    "       # 上映日期\n",
    "       print(rank,moveName,href)\n",
    "       item = [ rank ,moveName,countryString,typeString,href] # ['1','肖申克的救赎']\n",
    "        # 4.保存数据\n",
    "       with open('豆瓣电影250-4.csv','a',encoding='utf-8-sig',newline='') as f:#a是追加\n",
    "        fcsv=csv.writer(f)\n",
    "        fcsv.writerow(item ) #['1','肖申克的救赎']\n",
    "    pageNum = pageNum+1\n",
    "    print(\"第\"+str(pageNum)+\"页爬取完成！\")\n",
    "\n"
   ]
  }
 ],
 "metadata": {
  "kernelspec": {
   "display_name": "base",
   "language": "python",
   "name": "python3"
  },
  "language_info": {
   "name": "python",
   "version": "3.12.3"
  }
 },
 "nbformat": 4,
 "nbformat_minor": 2
}
