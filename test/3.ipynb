{
 "cells": [
  {
   "cell_type": "code",
   "execution_count": 22,
   "metadata": {},
   "outputs": [
    {
     "ename": "UnboundLocalError",
     "evalue": "cannot access local variable 'item' where it is not associated with a value",
     "output_type": "error",
     "traceback": [
      "\u001b[1;31m---------------------------------------------------------------------------\u001b[0m",
      "\u001b[1;31mUnboundLocalError\u001b[0m                         Traceback (most recent call last)",
      "Cell \u001b[1;32mIn[22], line 64\u001b[0m\n\u001b[0;32m     62\u001b[0m url\u001b[38;5;241m=\u001b[39m\u001b[38;5;124m'\u001b[39m\u001b[38;5;124mhttps://movie.douban.com/top250?start=\u001b[39m\u001b[38;5;132;01m{}\u001b[39;00m\u001b[38;5;124m&filter=\u001b[39m\u001b[38;5;124m'\u001b[39m\u001b[38;5;241m.\u001b[39mformat(i)\n\u001b[0;32m     63\u001b[0m html \u001b[38;5;241m=\u001b[39m get_one_page(url)\n\u001b[1;32m---> 64\u001b[0m item \u001b[38;5;241m=\u001b[39m parse_one_page(html)\n\u001b[0;32m     65\u001b[0m write_to_csv(item)\n\u001b[0;32m     66\u001b[0m pageNum \u001b[38;5;241m=\u001b[39m pageNum\u001b[38;5;241m+\u001b[39m\u001b[38;5;241m1\u001b[39m\n",
      "Cell \u001b[1;32mIn[22], line 51\u001b[0m, in \u001b[0;36mparse_one_page\u001b[1;34m(html)\u001b[0m\n\u001b[0;32m     49\u001b[0m    \u001b[38;5;28mprint\u001b[39m(rank,moveName,href)\n\u001b[0;32m     50\u001b[0m    item \u001b[38;5;241m=\u001b[39m [ rank ,moveName,countryString,typeString,href] \u001b[38;5;66;03m# ['1','肖申克的救赎']\u001b[39;00m\n\u001b[1;32m---> 51\u001b[0m \u001b[38;5;28;01mreturn\u001b[39;00m item\n",
      "\u001b[1;31mUnboundLocalError\u001b[0m: cannot access local variable 'item' where it is not associated with a value"
     ]
    }
   ],
   "source": [
    "import requests\n",
    "from lxml import etree\n",
    "import csv\n",
    "import re\n",
    "import time\n",
    "#网页下载\n",
    "def get_one_page(url):\n",
    "    h={\n",
    "        'user-Agent': 'Mozilla/5.0 (windows NT 10.0; Win64,x64) ApplewebKit/537.36 (KHTML,tike Gecko) chrome/122.0.6261.95 Sa'\n",
    "        }\n",
    "    res=requests.get(url, headers=h)\n",
    "    res.encoding='utf-8'\n",
    "    html=res.text\n",
    "    return html\n",
    "\n",
    "\n",
    "#网页下载\n",
    "def parse_one_page(html):\n",
    "    domtree=etree.HTML(html)\n",
    "    liList = domtree.xpath('//div[@class=\"article\"]/ol/li')  #变量名，大小驼峰标识法\n",
    "    for li in liList:\n",
    "       rank = li.xpath('div/div[@class=\"pic\"]/em/text()')[0] #排名\n",
    "       moveName = li.xpath('.//div[@class=\"hd\"]/a/span[1]/text()') [0]#电影名\n",
    "       href = li.xpath('.//div[@class=\"hd\"]/a/@href')[0] #电影详情的url\n",
    "    \n",
    "       #下载页面\n",
    "       detailHTML = get_one_page(href)\n",
    "\n",
    "       #解析电影详情页面\n",
    "    #    res = requests.get(href, headers=h)\n",
    "    #    res.encoding = 'utf-8'\n",
    "    #    detailHtml = res.text  \n",
    "       domtree2 = etree.HTML(detailHTML)\n",
    "       time.sleep(1)\n",
    "       infoElementList = domtree2.xpath('//*[@id=\"info\"] ')\n",
    "       time.sleep(2)\n",
    "       infoHtmlString = etree.tostring(infoElementList[0], encoding='utf-8').decode('utf-8')\n",
    "       # 制片国家\n",
    "       countryList = re.findall(r'<span class=\"pl\">制片国家/地区:</span>(.*)<br/>', infoHtmlString)\n",
    "       countryString = countryList[0].strip()\n",
    "       print(\"国家：\")\n",
    "       print(countryString)\n",
    "       # 类型\n",
    "       typeList = infoElementList[0].xpath('.//span[@property=\"v:genre\"]/text()')\n",
    "       print(typeList)\n",
    "       typeString = ','.join(typeList)\n",
    "       print(typeString)\n",
    "       # 上映日期\n",
    "       print(rank,moveName,href)\n",
    "       item = [ rank ,moveName,countryString,typeString,href] # ['1','肖申克的救赎']\n",
    "    return item\n",
    "\n",
    "#写入csv\n",
    "def write_to_csv(item):\n",
    "    with open('豆瓣电影250-4.csv','a',encoding='utf-8-sig',newline='') as f:#a是追加\n",
    "        fcsv=csv.writer(f)\n",
    "        fcsv.writerow(item ) #['1','肖申克的救赎']\n",
    "\n",
    "if __name__ == '__main__':\n",
    "    pageNum = 0\n",
    "    for i in range(0,25,25):\n",
    "        url='https://movie.douban.com/top250?start={}&filter='.format(i)\n",
    "        html = get_one_page(url)\n",
    "        item = parse_one_page(html)\n",
    "        write_to_csv(item)\n",
    "        pageNum = pageNum+1\n",
    "        print(\"第\"+str(pageNum)+\"页爬取完成！\")\n",
    "\n"
   ]
  },
  {
   "cell_type": "code",
   "execution_count": null,
   "metadata": {},
   "outputs": [],
   "source": []
  }
 ],
 "metadata": {
  "kernelspec": {
   "display_name": "base",
   "language": "python",
   "name": "python3"
  },
  "language_info": {
   "codemirror_mode": {
    "name": "ipython",
    "version": 3
   },
   "file_extension": ".py",
   "mimetype": "text/x-python",
   "name": "python",
   "nbconvert_exporter": "python",
   "pygments_lexer": "ipython3",
   "version": "3.12.3"
  }
 },
 "nbformat": 4,
 "nbformat_minor": 2
}
