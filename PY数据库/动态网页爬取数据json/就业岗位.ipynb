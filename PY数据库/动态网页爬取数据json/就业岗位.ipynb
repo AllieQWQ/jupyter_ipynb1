{
 "cells": [
  {
   "cell_type": "code",
   "execution_count": 2,
   "metadata": {},
   "outputs": [
    {
     "name": "stdout",
     "output_type": "stream",
     "text": [
      "中国银行股份有限公司2026年全球校园招聘公告 15.0 5.0 1000 本科及以上 北京 国有企业\n",
      "国家林业和草原局直属单位2026年第一批公开招聘应届毕业生公告 15.0 5.0 253 本科及以上 北京 机关/事业单位/非营利机构\n",
      "商务专员 30.0 8.0 3 本科及以上 北京 民营企业\n",
      "客户专员 15.0 8.0 3 本科及以上 北京 民营企业\n",
      "商务专员 15.0 3.0 2 专科及以上 北京 民营企业\n",
      "高中物理老师 15.0 8.0 5 本科及以上 河北 民营企业\n",
      "高中数学老师 15.0 8.0 14 本科及以上 河北 民营企业\n",
      "财务会计 10.0 5.0 1 本科及以上 北京 民营企业\n",
      "国内电商运营专员 4.5 2.5 2 专科及以上 天津 民营企业\n",
      "实习生招聘（投资研究方向） 3.0 1.0 3 本科及以上 北京 民营企业\n"
     ]
    }
   ],
   "source": [
    "import csv\n",
    "import requests\n",
    "import json\n",
    "import pymysql\n",
    "\n",
    "def get_one_page(url):\n",
    "    header = {\n",
    "        'user-agent':'Mozilla/5.0 (Windows NT 10.0; Win64; x64) AppleWebKit/537.36 (KHTML, like Gecko) Chrome/136.0.0.0 Safari/537.36 Edg/136.0.0.0'\n",
    "    }\n",
    "    r = requests.get(url, headers=header)\n",
    "    r.raise_for_status()  # 检查请求是否成功\n",
    "    return r.json()\n",
    "\n",
    "def parse_one_page(json_data):\n",
    "    #One_theme_data = json_data[\"data\"]\n",
    "    staff_data = []\n",
    "    \n",
    "    for i in json_data[\"data\"][\"list\"]:\n",
    "        job_name = i[\"jobName\"]         #岗位名称\n",
    "        max_wage = i[\"highMonthPay\"]    #岗位最高薪资\n",
    "        min_wage = i[\"lowMonthPay\"]     #岗位最低薪资\n",
    "        demand_person = i[\"headCount\"]  #人才需求\n",
    "        degress = i[\"degreeName\"]       #学历\n",
    "        area = i[\"areaCodeName\"]        #地区\n",
    "        property_s = i[\"recProperty\"]   #企业类型\n",
    "\n",
    "        staff_data.append(\n",
    "            [job_name,max_wage,min_wage,demand_person,\n",
    "             degress,area,property_s]\n",
    "            )\n",
    "        print(job_name,max_wage,min_wage,demand_person,\n",
    "             degress,area,property_s)\n",
    "    return staff_data\n",
    "        \n",
    "\n",
    "\n",
    "def write_to_csv():\n",
    "    pass\n",
    "\n",
    "if __name__ == '__main__':\n",
    "    url = 'https://www.ncss.cn/student/jobs/jobslist/ajax/?jobType=&areaCode=1&jobName=&monthPay=&industrySectors=&property=&categoryCode=&memberLevel=&recruitType=&offset=1&limit=10&keyUnits=&degreeCode=&sourcesName=0&sourcesType=&_=1747287539532'\n",
    "    json_data = get_one_page(url)\n",
    "    parse_one_page(json_data)\n"
   ]
  },
  {
   "cell_type": "code",
   "execution_count": null,
   "metadata": {},
   "outputs": [],
   "source": []
  }
 ],
 "metadata": {
  "kernelspec": {
   "display_name": "base",
   "language": "python",
   "name": "python3"
  },
  "language_info": {
   "codemirror_mode": {
    "name": "ipython",
    "version": 3
   },
   "file_extension": ".py",
   "mimetype": "text/x-python",
   "name": "python",
   "nbconvert_exporter": "python",
   "pygments_lexer": "ipython3",
   "version": "3.12.3"
  }
 },
 "nbformat": 4,
 "nbformat_minor": 2
}
